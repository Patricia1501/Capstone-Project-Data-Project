{
 "cells": [
  {
   "cell_type": "markdown",
   "id": "8e3acbf4",
   "metadata": {},
   "source": [
    "## <u><b><i><center>Capstone Project on CAR DETAILS PREDICTION - By Patricia S</u></b></i></center>"
   ]
  },
  {
   "cell_type": "markdown",
   "id": "7bce17d4",
   "metadata": {},
   "source": [
    "### <u>Problem Statement:\n",
    "Perform EDA and derive Insights from the CAR DETAILS\n",
    "dataset using Various Data Analysis and Data Visualization\n",
    "libraries of Python such as Pandas, Matplotlib & Seaborn.\n",
    "Create and Deploy a ML Model Which can be accessed by all,\n",
    "using Streamlit and GitHub."
   ]
  },
  {
   "cell_type": "markdown",
   "id": "1f7670fd",
   "metadata": {},
   "source": [
    "### <u>About the Dataset:\n",
    "\n",
    "This data is collected from 'Car Dekho'. <br>\n",
    "Following details of cars are included in the dataset:\n",
    "1) Car name <br>\n",
    "2) Year <br>\n",
    "3) Selling Price <br>\n",
    "4) Kms driven <br>\n",
    "5) Fuel <br>\n",
    "6) Seller type <br>\n",
    "7) Transmission <br>\n",
    "8) Owner <br>"
   ]
  },
  {
   "cell_type": "markdown",
   "id": "6f527d1f",
   "metadata": {},
   "source": [
    "#### Link to the Kaggle Dataset(Car Details):https://www.kaggle.com/datasets/akshaydattatraykhare/car-details-dataset"
   ]
  },
  {
   "cell_type": "markdown",
   "id": "15d6579a",
   "metadata": {},
   "source": [
    "### <u>DATA PREPARATION"
   ]
  },
  {
   "cell_type": "code",
   "execution_count": 1,
   "id": "5469cca4",
   "metadata": {},
   "outputs": [],
   "source": [
    "import numpy as np              # numpy is aliased as np and it deals with data\n",
    "import pandas as pd             # pandas is aliased as pd and it deals with data\n",
    "import matplotlib.pyplot as plt # pyplot is aliased as plt and it deals with graphic charts\n",
    "import seaborn as sns           # seaborn is aliased as sns and it deals with graphic charts\n",
    "%matplotlib inline\n",
    "\n",
    "import warnings\n",
    "warnings.filterwarnings('ignore')"
   ]
  },
  {
   "cell_type": "code",
   "execution_count": 2,
   "id": "1dd0be74",
   "metadata": {},
   "outputs": [
    {
     "name": "stdout",
     "output_type": "stream",
     "text": [
      "<class 'pandas.core.frame.DataFrame'>\n"
     ]
    },
    {
     "data": {
      "text/html": [
       "<div>\n",
       "<style scoped>\n",
       "    .dataframe tbody tr th:only-of-type {\n",
       "        vertical-align: middle;\n",
       "    }\n",
       "\n",
       "    .dataframe tbody tr th {\n",
       "        vertical-align: top;\n",
       "    }\n",
       "\n",
       "    .dataframe thead th {\n",
       "        text-align: right;\n",
       "    }\n",
       "</style>\n",
       "<table border=\"1\" class=\"dataframe\">\n",
       "  <thead>\n",
       "    <tr style=\"text-align: right;\">\n",
       "      <th></th>\n",
       "      <th>name</th>\n",
       "      <th>year</th>\n",
       "      <th>selling_price</th>\n",
       "      <th>km_driven</th>\n",
       "      <th>fuel</th>\n",
       "      <th>seller_type</th>\n",
       "      <th>transmission</th>\n",
       "      <th>owner</th>\n",
       "    </tr>\n",
       "  </thead>\n",
       "  <tbody>\n",
       "    <tr>\n",
       "      <th>0</th>\n",
       "      <td>Maruti 800 AC</td>\n",
       "      <td>2007</td>\n",
       "      <td>60000</td>\n",
       "      <td>70000</td>\n",
       "      <td>Petrol</td>\n",
       "      <td>Individual</td>\n",
       "      <td>Manual</td>\n",
       "      <td>First Owner</td>\n",
       "    </tr>\n",
       "    <tr>\n",
       "      <th>1</th>\n",
       "      <td>Maruti Wagon R LXI Minor</td>\n",
       "      <td>2007</td>\n",
       "      <td>135000</td>\n",
       "      <td>50000</td>\n",
       "      <td>Petrol</td>\n",
       "      <td>Individual</td>\n",
       "      <td>Manual</td>\n",
       "      <td>First Owner</td>\n",
       "    </tr>\n",
       "    <tr>\n",
       "      <th>2</th>\n",
       "      <td>Hyundai Verna 1.6 SX</td>\n",
       "      <td>2012</td>\n",
       "      <td>600000</td>\n",
       "      <td>100000</td>\n",
       "      <td>Diesel</td>\n",
       "      <td>Individual</td>\n",
       "      <td>Manual</td>\n",
       "      <td>First Owner</td>\n",
       "    </tr>\n",
       "    <tr>\n",
       "      <th>3</th>\n",
       "      <td>Datsun RediGO T Option</td>\n",
       "      <td>2017</td>\n",
       "      <td>250000</td>\n",
       "      <td>46000</td>\n",
       "      <td>Petrol</td>\n",
       "      <td>Individual</td>\n",
       "      <td>Manual</td>\n",
       "      <td>First Owner</td>\n",
       "    </tr>\n",
       "    <tr>\n",
       "      <th>4</th>\n",
       "      <td>Honda Amaze VX i-DTEC</td>\n",
       "      <td>2014</td>\n",
       "      <td>450000</td>\n",
       "      <td>141000</td>\n",
       "      <td>Diesel</td>\n",
       "      <td>Individual</td>\n",
       "      <td>Manual</td>\n",
       "      <td>Second Owner</td>\n",
       "    </tr>\n",
       "    <tr>\n",
       "      <th>...</th>\n",
       "      <td>...</td>\n",
       "      <td>...</td>\n",
       "      <td>...</td>\n",
       "      <td>...</td>\n",
       "      <td>...</td>\n",
       "      <td>...</td>\n",
       "      <td>...</td>\n",
       "      <td>...</td>\n",
       "    </tr>\n",
       "    <tr>\n",
       "      <th>4335</th>\n",
       "      <td>Hyundai i20 Magna 1.4 CRDi (Diesel)</td>\n",
       "      <td>2014</td>\n",
       "      <td>409999</td>\n",
       "      <td>80000</td>\n",
       "      <td>Diesel</td>\n",
       "      <td>Individual</td>\n",
       "      <td>Manual</td>\n",
       "      <td>Second Owner</td>\n",
       "    </tr>\n",
       "    <tr>\n",
       "      <th>4336</th>\n",
       "      <td>Hyundai i20 Magna 1.4 CRDi</td>\n",
       "      <td>2014</td>\n",
       "      <td>409999</td>\n",
       "      <td>80000</td>\n",
       "      <td>Diesel</td>\n",
       "      <td>Individual</td>\n",
       "      <td>Manual</td>\n",
       "      <td>Second Owner</td>\n",
       "    </tr>\n",
       "    <tr>\n",
       "      <th>4337</th>\n",
       "      <td>Maruti 800 AC BSIII</td>\n",
       "      <td>2009</td>\n",
       "      <td>110000</td>\n",
       "      <td>83000</td>\n",
       "      <td>Petrol</td>\n",
       "      <td>Individual</td>\n",
       "      <td>Manual</td>\n",
       "      <td>Second Owner</td>\n",
       "    </tr>\n",
       "    <tr>\n",
       "      <th>4338</th>\n",
       "      <td>Hyundai Creta 1.6 CRDi SX Option</td>\n",
       "      <td>2016</td>\n",
       "      <td>865000</td>\n",
       "      <td>90000</td>\n",
       "      <td>Diesel</td>\n",
       "      <td>Individual</td>\n",
       "      <td>Manual</td>\n",
       "      <td>First Owner</td>\n",
       "    </tr>\n",
       "    <tr>\n",
       "      <th>4339</th>\n",
       "      <td>Renault KWID RXT</td>\n",
       "      <td>2016</td>\n",
       "      <td>225000</td>\n",
       "      <td>40000</td>\n",
       "      <td>Petrol</td>\n",
       "      <td>Individual</td>\n",
       "      <td>Manual</td>\n",
       "      <td>First Owner</td>\n",
       "    </tr>\n",
       "  </tbody>\n",
       "</table>\n",
       "<p>4340 rows × 8 columns</p>\n",
       "</div>"
      ],
      "text/plain": [
       "                                     name  year  selling_price  km_driven  \\\n",
       "0                           Maruti 800 AC  2007          60000      70000   \n",
       "1                Maruti Wagon R LXI Minor  2007         135000      50000   \n",
       "2                    Hyundai Verna 1.6 SX  2012         600000     100000   \n",
       "3                  Datsun RediGO T Option  2017         250000      46000   \n",
       "4                   Honda Amaze VX i-DTEC  2014         450000     141000   \n",
       "...                                   ...   ...            ...        ...   \n",
       "4335  Hyundai i20 Magna 1.4 CRDi (Diesel)  2014         409999      80000   \n",
       "4336           Hyundai i20 Magna 1.4 CRDi  2014         409999      80000   \n",
       "4337                  Maruti 800 AC BSIII  2009         110000      83000   \n",
       "4338     Hyundai Creta 1.6 CRDi SX Option  2016         865000      90000   \n",
       "4339                     Renault KWID RXT  2016         225000      40000   \n",
       "\n",
       "        fuel seller_type transmission         owner  \n",
       "0     Petrol  Individual       Manual   First Owner  \n",
       "1     Petrol  Individual       Manual   First Owner  \n",
       "2     Diesel  Individual       Manual   First Owner  \n",
       "3     Petrol  Individual       Manual   First Owner  \n",
       "4     Diesel  Individual       Manual  Second Owner  \n",
       "...      ...         ...          ...           ...  \n",
       "4335  Diesel  Individual       Manual  Second Owner  \n",
       "4336  Diesel  Individual       Manual  Second Owner  \n",
       "4337  Petrol  Individual       Manual  Second Owner  \n",
       "4338  Diesel  Individual       Manual   First Owner  \n",
       "4339  Petrol  Individual       Manual   First Owner  \n",
       "\n",
       "[4340 rows x 8 columns]"
      ]
     },
     "execution_count": 2,
     "metadata": {},
     "output_type": "execute_result"
    }
   ],
   "source": [
    "# Load the dataset\n",
    "df_car = pd.read_csv('Car_Details.csv')\n",
    "print(type(df_car))\n",
    "df_car"
   ]
  },
  {
   "cell_type": "markdown",
   "id": "e3b00371",
   "metadata": {},
   "source": [
    "### <u>Scrubbing the Data"
   ]
  },
  {
   "cell_type": "code",
   "execution_count": 3,
   "id": "630d26b9",
   "metadata": {},
   "outputs": [
    {
     "data": {
      "text/html": [
       "<div>\n",
       "<style scoped>\n",
       "    .dataframe tbody tr th:only-of-type {\n",
       "        vertical-align: middle;\n",
       "    }\n",
       "\n",
       "    .dataframe tbody tr th {\n",
       "        vertical-align: top;\n",
       "    }\n",
       "\n",
       "    .dataframe thead th {\n",
       "        text-align: right;\n",
       "    }\n",
       "</style>\n",
       "<table border=\"1\" class=\"dataframe\">\n",
       "  <thead>\n",
       "    <tr style=\"text-align: right;\">\n",
       "      <th></th>\n",
       "      <th>name</th>\n",
       "      <th>year</th>\n",
       "      <th>selling_price</th>\n",
       "      <th>km_driven</th>\n",
       "      <th>fuel</th>\n",
       "      <th>seller_type</th>\n",
       "      <th>transmission</th>\n",
       "      <th>owner</th>\n",
       "    </tr>\n",
       "  </thead>\n",
       "  <tbody>\n",
       "    <tr>\n",
       "      <th>0</th>\n",
       "      <td>Maruti 800 AC</td>\n",
       "      <td>2007</td>\n",
       "      <td>60000</td>\n",
       "      <td>70000</td>\n",
       "      <td>Petrol</td>\n",
       "      <td>Individual</td>\n",
       "      <td>Manual</td>\n",
       "      <td>First Owner</td>\n",
       "    </tr>\n",
       "    <tr>\n",
       "      <th>1</th>\n",
       "      <td>Maruti Wagon R LXI Minor</td>\n",
       "      <td>2007</td>\n",
       "      <td>135000</td>\n",
       "      <td>50000</td>\n",
       "      <td>Petrol</td>\n",
       "      <td>Individual</td>\n",
       "      <td>Manual</td>\n",
       "      <td>First Owner</td>\n",
       "    </tr>\n",
       "    <tr>\n",
       "      <th>2</th>\n",
       "      <td>Hyundai Verna 1.6 SX</td>\n",
       "      <td>2012</td>\n",
       "      <td>600000</td>\n",
       "      <td>100000</td>\n",
       "      <td>Diesel</td>\n",
       "      <td>Individual</td>\n",
       "      <td>Manual</td>\n",
       "      <td>First Owner</td>\n",
       "    </tr>\n",
       "    <tr>\n",
       "      <th>3</th>\n",
       "      <td>Datsun RediGO T Option</td>\n",
       "      <td>2017</td>\n",
       "      <td>250000</td>\n",
       "      <td>46000</td>\n",
       "      <td>Petrol</td>\n",
       "      <td>Individual</td>\n",
       "      <td>Manual</td>\n",
       "      <td>First Owner</td>\n",
       "    </tr>\n",
       "    <tr>\n",
       "      <th>4</th>\n",
       "      <td>Honda Amaze VX i-DTEC</td>\n",
       "      <td>2014</td>\n",
       "      <td>450000</td>\n",
       "      <td>141000</td>\n",
       "      <td>Diesel</td>\n",
       "      <td>Individual</td>\n",
       "      <td>Manual</td>\n",
       "      <td>Second Owner</td>\n",
       "    </tr>\n",
       "  </tbody>\n",
       "</table>\n",
       "</div>"
      ],
      "text/plain": [
       "                       name  year  selling_price  km_driven    fuel  \\\n",
       "0             Maruti 800 AC  2007          60000      70000  Petrol   \n",
       "1  Maruti Wagon R LXI Minor  2007         135000      50000  Petrol   \n",
       "2      Hyundai Verna 1.6 SX  2012         600000     100000  Diesel   \n",
       "3    Datsun RediGO T Option  2017         250000      46000  Petrol   \n",
       "4     Honda Amaze VX i-DTEC  2014         450000     141000  Diesel   \n",
       "\n",
       "  seller_type transmission         owner  \n",
       "0  Individual       Manual   First Owner  \n",
       "1  Individual       Manual   First Owner  \n",
       "2  Individual       Manual   First Owner  \n",
       "3  Individual       Manual   First Owner  \n",
       "4  Individual       Manual  Second Owner  "
      ]
     },
     "execution_count": 3,
     "metadata": {},
     "output_type": "execute_result"
    }
   ],
   "source": [
    "df_car.head()"
   ]
  },
  {
   "cell_type": "code",
   "execution_count": 4,
   "id": "0642e258",
   "metadata": {},
   "outputs": [
    {
     "data": {
      "text/html": [
       "<div>\n",
       "<style scoped>\n",
       "    .dataframe tbody tr th:only-of-type {\n",
       "        vertical-align: middle;\n",
       "    }\n",
       "\n",
       "    .dataframe tbody tr th {\n",
       "        vertical-align: top;\n",
       "    }\n",
       "\n",
       "    .dataframe thead th {\n",
       "        text-align: right;\n",
       "    }\n",
       "</style>\n",
       "<table border=\"1\" class=\"dataframe\">\n",
       "  <thead>\n",
       "    <tr style=\"text-align: right;\">\n",
       "      <th></th>\n",
       "      <th>name</th>\n",
       "      <th>year</th>\n",
       "      <th>selling_price</th>\n",
       "      <th>km_driven</th>\n",
       "      <th>fuel</th>\n",
       "      <th>seller_type</th>\n",
       "      <th>transmission</th>\n",
       "      <th>owner</th>\n",
       "    </tr>\n",
       "  </thead>\n",
       "  <tbody>\n",
       "    <tr>\n",
       "      <th>4335</th>\n",
       "      <td>Hyundai i20 Magna 1.4 CRDi (Diesel)</td>\n",
       "      <td>2014</td>\n",
       "      <td>409999</td>\n",
       "      <td>80000</td>\n",
       "      <td>Diesel</td>\n",
       "      <td>Individual</td>\n",
       "      <td>Manual</td>\n",
       "      <td>Second Owner</td>\n",
       "    </tr>\n",
       "    <tr>\n",
       "      <th>4336</th>\n",
       "      <td>Hyundai i20 Magna 1.4 CRDi</td>\n",
       "      <td>2014</td>\n",
       "      <td>409999</td>\n",
       "      <td>80000</td>\n",
       "      <td>Diesel</td>\n",
       "      <td>Individual</td>\n",
       "      <td>Manual</td>\n",
       "      <td>Second Owner</td>\n",
       "    </tr>\n",
       "    <tr>\n",
       "      <th>4337</th>\n",
       "      <td>Maruti 800 AC BSIII</td>\n",
       "      <td>2009</td>\n",
       "      <td>110000</td>\n",
       "      <td>83000</td>\n",
       "      <td>Petrol</td>\n",
       "      <td>Individual</td>\n",
       "      <td>Manual</td>\n",
       "      <td>Second Owner</td>\n",
       "    </tr>\n",
       "    <tr>\n",
       "      <th>4338</th>\n",
       "      <td>Hyundai Creta 1.6 CRDi SX Option</td>\n",
       "      <td>2016</td>\n",
       "      <td>865000</td>\n",
       "      <td>90000</td>\n",
       "      <td>Diesel</td>\n",
       "      <td>Individual</td>\n",
       "      <td>Manual</td>\n",
       "      <td>First Owner</td>\n",
       "    </tr>\n",
       "    <tr>\n",
       "      <th>4339</th>\n",
       "      <td>Renault KWID RXT</td>\n",
       "      <td>2016</td>\n",
       "      <td>225000</td>\n",
       "      <td>40000</td>\n",
       "      <td>Petrol</td>\n",
       "      <td>Individual</td>\n",
       "      <td>Manual</td>\n",
       "      <td>First Owner</td>\n",
       "    </tr>\n",
       "  </tbody>\n",
       "</table>\n",
       "</div>"
      ],
      "text/plain": [
       "                                     name  year  selling_price  km_driven  \\\n",
       "4335  Hyundai i20 Magna 1.4 CRDi (Diesel)  2014         409999      80000   \n",
       "4336           Hyundai i20 Magna 1.4 CRDi  2014         409999      80000   \n",
       "4337                  Maruti 800 AC BSIII  2009         110000      83000   \n",
       "4338     Hyundai Creta 1.6 CRDi SX Option  2016         865000      90000   \n",
       "4339                     Renault KWID RXT  2016         225000      40000   \n",
       "\n",
       "        fuel seller_type transmission         owner  \n",
       "4335  Diesel  Individual       Manual  Second Owner  \n",
       "4336  Diesel  Individual       Manual  Second Owner  \n",
       "4337  Petrol  Individual       Manual  Second Owner  \n",
       "4338  Diesel  Individual       Manual   First Owner  \n",
       "4339  Petrol  Individual       Manual   First Owner  "
      ]
     },
     "execution_count": 4,
     "metadata": {},
     "output_type": "execute_result"
    }
   ],
   "source": [
    "df_car.tail()"
   ]
  },
  {
   "cell_type": "code",
   "execution_count": 5,
   "id": "e9adcf68",
   "metadata": {},
   "outputs": [
    {
     "data": {
      "text/plain": [
       "Index(['name', 'year', 'selling_price', 'km_driven', 'fuel', 'seller_type',\n",
       "       'transmission', 'owner'],\n",
       "      dtype='object')"
      ]
     },
     "execution_count": 5,
     "metadata": {},
     "output_type": "execute_result"
    }
   ],
   "source": [
    "# Displaying the column names\n",
    "df_car.columns"
   ]
  },
  {
   "cell_type": "code",
   "execution_count": 6,
   "id": "570ac817",
   "metadata": {},
   "outputs": [
    {
     "data": {
      "text/plain": [
       "(4340, 8)"
      ]
     },
     "execution_count": 6,
     "metadata": {},
     "output_type": "execute_result"
    }
   ],
   "source": [
    "# To know the size of the data and the number of rows and columns\n",
    "df_car.shape\n",
    "\n",
    "# 4340 - rows\n",
    "# 8 - columns"
   ]
  },
  {
   "cell_type": "code",
   "execution_count": 7,
   "id": "5a91eab2",
   "metadata": {},
   "outputs": [
    {
     "data": {
      "text/plain": [
       "name             object\n",
       "year              int64\n",
       "selling_price     int64\n",
       "km_driven         int64\n",
       "fuel             object\n",
       "seller_type      object\n",
       "transmission     object\n",
       "owner            object\n",
       "dtype: object"
      ]
     },
     "execution_count": 7,
     "metadata": {},
     "output_type": "execute_result"
    }
   ],
   "source": [
    "# Displaying the column types\n",
    "df_car.dtypes"
   ]
  },
  {
   "cell_type": "markdown",
   "id": "6a2a1853",
   "metadata": {},
   "source": [
    "#### To know more information about the data"
   ]
  },
  {
   "cell_type": "code",
   "execution_count": 8,
   "id": "c616b7cc",
   "metadata": {},
   "outputs": [
    {
     "name": "stdout",
     "output_type": "stream",
     "text": [
      "<class 'pandas.core.frame.DataFrame'>\n",
      "RangeIndex: 4340 entries, 0 to 4339\n",
      "Data columns (total 8 columns):\n",
      " #   Column         Non-Null Count  Dtype \n",
      "---  ------         --------------  ----- \n",
      " 0   name           4340 non-null   object\n",
      " 1   year           4340 non-null   int64 \n",
      " 2   selling_price  4340 non-null   int64 \n",
      " 3   km_driven      4340 non-null   int64 \n",
      " 4   fuel           4340 non-null   object\n",
      " 5   seller_type    4340 non-null   object\n",
      " 6   transmission   4340 non-null   object\n",
      " 7   owner          4340 non-null   object\n",
      "dtypes: int64(3), object(5)\n",
      "memory usage: 271.4+ KB\n"
     ]
    }
   ],
   "source": [
    "df_car.info()"
   ]
  },
  {
   "cell_type": "code",
   "execution_count": 9,
   "id": "29b1eab1",
   "metadata": {},
   "outputs": [
    {
     "name": "stdout",
     "output_type": "stream",
     "text": [
      "Index(['name', 'fuel', 'seller_type', 'transmission', 'owner'], dtype='object')\n",
      "Index(['year', 'selling_price', 'km_driven'], dtype='object')\n"
     ]
    }
   ],
   "source": [
    "# Extracting Numerical and Categorical columns\n",
    "cat_cols = df_car.select_dtypes(include=['object'])\n",
    "print(cat_cols.columns)\n",
    "num_cols = df_car.select_dtypes(exclude=['O'])\n",
    "print(num_cols.columns)"
   ]
  },
  {
   "cell_type": "markdown",
   "id": "fc899eb1",
   "metadata": {},
   "source": [
    "#### Univariate Statistical Analysis"
   ]
  },
  {
   "cell_type": "code",
   "execution_count": 10,
   "id": "20bb3339",
   "metadata": {},
   "outputs": [
    {
     "data": {
      "text/html": [
       "<div>\n",
       "<style scoped>\n",
       "    .dataframe tbody tr th:only-of-type {\n",
       "        vertical-align: middle;\n",
       "    }\n",
       "\n",
       "    .dataframe tbody tr th {\n",
       "        vertical-align: top;\n",
       "    }\n",
       "\n",
       "    .dataframe thead th {\n",
       "        text-align: right;\n",
       "    }\n",
       "</style>\n",
       "<table border=\"1\" class=\"dataframe\">\n",
       "  <thead>\n",
       "    <tr style=\"text-align: right;\">\n",
       "      <th></th>\n",
       "      <th>year</th>\n",
       "      <th>selling_price</th>\n",
       "      <th>km_driven</th>\n",
       "    </tr>\n",
       "  </thead>\n",
       "  <tbody>\n",
       "    <tr>\n",
       "      <th>count</th>\n",
       "      <td>4340.000000</td>\n",
       "      <td>4.340000e+03</td>\n",
       "      <td>4340.000000</td>\n",
       "    </tr>\n",
       "    <tr>\n",
       "      <th>mean</th>\n",
       "      <td>2013.090783</td>\n",
       "      <td>5.041273e+05</td>\n",
       "      <td>66215.777419</td>\n",
       "    </tr>\n",
       "    <tr>\n",
       "      <th>std</th>\n",
       "      <td>4.215344</td>\n",
       "      <td>5.785487e+05</td>\n",
       "      <td>46644.102194</td>\n",
       "    </tr>\n",
       "    <tr>\n",
       "      <th>min</th>\n",
       "      <td>1992.000000</td>\n",
       "      <td>2.000000e+04</td>\n",
       "      <td>1.000000</td>\n",
       "    </tr>\n",
       "    <tr>\n",
       "      <th>25%</th>\n",
       "      <td>2011.000000</td>\n",
       "      <td>2.087498e+05</td>\n",
       "      <td>35000.000000</td>\n",
       "    </tr>\n",
       "    <tr>\n",
       "      <th>50%</th>\n",
       "      <td>2014.000000</td>\n",
       "      <td>3.500000e+05</td>\n",
       "      <td>60000.000000</td>\n",
       "    </tr>\n",
       "    <tr>\n",
       "      <th>75%</th>\n",
       "      <td>2016.000000</td>\n",
       "      <td>6.000000e+05</td>\n",
       "      <td>90000.000000</td>\n",
       "    </tr>\n",
       "    <tr>\n",
       "      <th>max</th>\n",
       "      <td>2020.000000</td>\n",
       "      <td>8.900000e+06</td>\n",
       "      <td>806599.000000</td>\n",
       "    </tr>\n",
       "  </tbody>\n",
       "</table>\n",
       "</div>"
      ],
      "text/plain": [
       "              year  selling_price      km_driven\n",
       "count  4340.000000   4.340000e+03    4340.000000\n",
       "mean   2013.090783   5.041273e+05   66215.777419\n",
       "std       4.215344   5.785487e+05   46644.102194\n",
       "min    1992.000000   2.000000e+04       1.000000\n",
       "25%    2011.000000   2.087498e+05   35000.000000\n",
       "50%    2014.000000   3.500000e+05   60000.000000\n",
       "75%    2016.000000   6.000000e+05   90000.000000\n",
       "max    2020.000000   8.900000e+06  806599.000000"
      ]
     },
     "execution_count": 10,
     "metadata": {},
     "output_type": "execute_result"
    }
   ],
   "source": [
    "df_car.describe()"
   ]
  },
  {
   "cell_type": "code",
   "execution_count": 11,
   "id": "62d8485e",
   "metadata": {},
   "outputs": [
    {
     "data": {
      "text/html": [
       "<div>\n",
       "<style scoped>\n",
       "    .dataframe tbody tr th:only-of-type {\n",
       "        vertical-align: middle;\n",
       "    }\n",
       "\n",
       "    .dataframe tbody tr th {\n",
       "        vertical-align: top;\n",
       "    }\n",
       "\n",
       "    .dataframe thead th {\n",
       "        text-align: right;\n",
       "    }\n",
       "</style>\n",
       "<table border=\"1\" class=\"dataframe\">\n",
       "  <thead>\n",
       "    <tr style=\"text-align: right;\">\n",
       "      <th></th>\n",
       "      <th>count</th>\n",
       "      <th>mean</th>\n",
       "      <th>std</th>\n",
       "      <th>min</th>\n",
       "      <th>5%</th>\n",
       "      <th>50%</th>\n",
       "      <th>90%</th>\n",
       "      <th>95%</th>\n",
       "      <th>96%</th>\n",
       "      <th>97%</th>\n",
       "      <th>98%</th>\n",
       "      <th>99%</th>\n",
       "      <th>max</th>\n",
       "    </tr>\n",
       "  </thead>\n",
       "  <tbody>\n",
       "    <tr>\n",
       "      <th>year</th>\n",
       "      <td>4340.0</td>\n",
       "      <td>2013.090783</td>\n",
       "      <td>4.215344</td>\n",
       "      <td>1992.0</td>\n",
       "      <td>2005.0</td>\n",
       "      <td>2014.0</td>\n",
       "      <td>2018.0</td>\n",
       "      <td>2019.0</td>\n",
       "      <td>2019.0</td>\n",
       "      <td>2019.0</td>\n",
       "      <td>2019.0</td>\n",
       "      <td>2020.0</td>\n",
       "      <td>2020.0</td>\n",
       "    </tr>\n",
       "    <tr>\n",
       "      <th>selling_price</th>\n",
       "      <td>4340.0</td>\n",
       "      <td>504127.311751</td>\n",
       "      <td>578548.736139</td>\n",
       "      <td>20000.0</td>\n",
       "      <td>80000.0</td>\n",
       "      <td>350000.0</td>\n",
       "      <td>900000.0</td>\n",
       "      <td>1300000.0</td>\n",
       "      <td>1479400.0</td>\n",
       "      <td>1720750.0</td>\n",
       "      <td>2492200.0</td>\n",
       "      <td>3200000.0</td>\n",
       "      <td>8900000.0</td>\n",
       "    </tr>\n",
       "    <tr>\n",
       "      <th>km_driven</th>\n",
       "      <td>4340.0</td>\n",
       "      <td>66215.777419</td>\n",
       "      <td>46644.102194</td>\n",
       "      <td>1.0</td>\n",
       "      <td>10000.0</td>\n",
       "      <td>60000.0</td>\n",
       "      <td>120000.0</td>\n",
       "      <td>140000.0</td>\n",
       "      <td>150000.0</td>\n",
       "      <td>163830.0</td>\n",
       "      <td>186000.0</td>\n",
       "      <td>220000.0</td>\n",
       "      <td>806599.0</td>\n",
       "    </tr>\n",
       "  </tbody>\n",
       "</table>\n",
       "</div>"
      ],
      "text/plain": [
       "                count           mean            std      min       5%  \\\n",
       "year           4340.0    2013.090783       4.215344   1992.0   2005.0   \n",
       "selling_price  4340.0  504127.311751  578548.736139  20000.0  80000.0   \n",
       "km_driven      4340.0   66215.777419   46644.102194      1.0  10000.0   \n",
       "\n",
       "                    50%       90%        95%        96%        97%        98%  \\\n",
       "year             2014.0    2018.0     2019.0     2019.0     2019.0     2019.0   \n",
       "selling_price  350000.0  900000.0  1300000.0  1479400.0  1720750.0  2492200.0   \n",
       "km_driven       60000.0  120000.0   140000.0   150000.0   163830.0   186000.0   \n",
       "\n",
       "                     99%        max  \n",
       "year              2020.0     2020.0  \n",
       "selling_price  3200000.0  8900000.0  \n",
       "km_driven       220000.0   806599.0  "
      ]
     },
     "execution_count": 11,
     "metadata": {},
     "output_type": "execute_result"
    }
   ],
   "source": [
    "df_car.describe(percentiles = [0.05, 0.9, 0.95, 0.96, 0.97, 0.98, 0.99]).T"
   ]
  },
  {
   "cell_type": "markdown",
   "id": "e01f47dd",
   "metadata": {},
   "source": [
    "#### Inference :-\n",
    "The dataset has 4340 observations and 8 columns.<br>\n",
    "Average km driven and selling price is about 66215 and 504127 respectively.<br>\n",
    "Oldest car is of year 1992 and the most recent is of year 2020."
   ]
  },
  {
   "cell_type": "markdown",
   "id": "38fc1f6f",
   "metadata": {},
   "source": [
    "### <u>DATA CLEANING AND PREPROCESSING"
   ]
  },
  {
   "cell_type": "code",
   "execution_count": 12,
   "id": "0be5aa43",
   "metadata": {},
   "outputs": [
    {
     "data": {
      "text/plain": [
       "763"
      ]
     },
     "execution_count": 12,
     "metadata": {},
     "output_type": "execute_result"
    }
   ],
   "source": [
    "# Check for duplicate values\n",
    "df_car.duplicated().sum()"
   ]
  },
  {
   "cell_type": "code",
   "execution_count": 13,
   "id": "07b9e7c9",
   "metadata": {},
   "outputs": [
    {
     "data": {
      "text/html": [
       "<div>\n",
       "<style scoped>\n",
       "    .dataframe tbody tr th:only-of-type {\n",
       "        vertical-align: middle;\n",
       "    }\n",
       "\n",
       "    .dataframe tbody tr th {\n",
       "        vertical-align: top;\n",
       "    }\n",
       "\n",
       "    .dataframe thead th {\n",
       "        text-align: right;\n",
       "    }\n",
       "</style>\n",
       "<table border=\"1\" class=\"dataframe\">\n",
       "  <thead>\n",
       "    <tr style=\"text-align: right;\">\n",
       "      <th></th>\n",
       "      <th>name</th>\n",
       "      <th>year</th>\n",
       "      <th>selling_price</th>\n",
       "      <th>km_driven</th>\n",
       "      <th>fuel</th>\n",
       "      <th>seller_type</th>\n",
       "      <th>transmission</th>\n",
       "      <th>owner</th>\n",
       "    </tr>\n",
       "  </thead>\n",
       "  <tbody>\n",
       "    <tr>\n",
       "      <th>13</th>\n",
       "      <td>Maruti 800 AC</td>\n",
       "      <td>2007</td>\n",
       "      <td>60000</td>\n",
       "      <td>70000</td>\n",
       "      <td>Petrol</td>\n",
       "      <td>Individual</td>\n",
       "      <td>Manual</td>\n",
       "      <td>First Owner</td>\n",
       "    </tr>\n",
       "    <tr>\n",
       "      <th>14</th>\n",
       "      <td>Maruti Wagon R LXI Minor</td>\n",
       "      <td>2007</td>\n",
       "      <td>135000</td>\n",
       "      <td>50000</td>\n",
       "      <td>Petrol</td>\n",
       "      <td>Individual</td>\n",
       "      <td>Manual</td>\n",
       "      <td>First Owner</td>\n",
       "    </tr>\n",
       "    <tr>\n",
       "      <th>15</th>\n",
       "      <td>Hyundai Verna 1.6 SX</td>\n",
       "      <td>2012</td>\n",
       "      <td>600000</td>\n",
       "      <td>100000</td>\n",
       "      <td>Diesel</td>\n",
       "      <td>Individual</td>\n",
       "      <td>Manual</td>\n",
       "      <td>First Owner</td>\n",
       "    </tr>\n",
       "    <tr>\n",
       "      <th>16</th>\n",
       "      <td>Datsun RediGO T Option</td>\n",
       "      <td>2017</td>\n",
       "      <td>250000</td>\n",
       "      <td>46000</td>\n",
       "      <td>Petrol</td>\n",
       "      <td>Individual</td>\n",
       "      <td>Manual</td>\n",
       "      <td>First Owner</td>\n",
       "    </tr>\n",
       "    <tr>\n",
       "      <th>17</th>\n",
       "      <td>Honda Amaze VX i-DTEC</td>\n",
       "      <td>2014</td>\n",
       "      <td>450000</td>\n",
       "      <td>141000</td>\n",
       "      <td>Diesel</td>\n",
       "      <td>Individual</td>\n",
       "      <td>Manual</td>\n",
       "      <td>Second Owner</td>\n",
       "    </tr>\n",
       "    <tr>\n",
       "      <th>...</th>\n",
       "      <td>...</td>\n",
       "      <td>...</td>\n",
       "      <td>...</td>\n",
       "      <td>...</td>\n",
       "      <td>...</td>\n",
       "      <td>...</td>\n",
       "      <td>...</td>\n",
       "      <td>...</td>\n",
       "    </tr>\n",
       "    <tr>\n",
       "      <th>4307</th>\n",
       "      <td>Mahindra Xylo H4</td>\n",
       "      <td>2019</td>\n",
       "      <td>599000</td>\n",
       "      <td>15000</td>\n",
       "      <td>Diesel</td>\n",
       "      <td>Individual</td>\n",
       "      <td>Manual</td>\n",
       "      <td>Third Owner</td>\n",
       "    </tr>\n",
       "    <tr>\n",
       "      <th>4308</th>\n",
       "      <td>Maruti Alto 800 LXI</td>\n",
       "      <td>2018</td>\n",
       "      <td>200000</td>\n",
       "      <td>35000</td>\n",
       "      <td>Petrol</td>\n",
       "      <td>Individual</td>\n",
       "      <td>Manual</td>\n",
       "      <td>First Owner</td>\n",
       "    </tr>\n",
       "    <tr>\n",
       "      <th>4309</th>\n",
       "      <td>Datsun GO Plus T</td>\n",
       "      <td>2017</td>\n",
       "      <td>350000</td>\n",
       "      <td>10171</td>\n",
       "      <td>Petrol</td>\n",
       "      <td>Dealer</td>\n",
       "      <td>Manual</td>\n",
       "      <td>First Owner</td>\n",
       "    </tr>\n",
       "    <tr>\n",
       "      <th>4310</th>\n",
       "      <td>Renault Duster 110PS Diesel RxL</td>\n",
       "      <td>2015</td>\n",
       "      <td>465000</td>\n",
       "      <td>41123</td>\n",
       "      <td>Diesel</td>\n",
       "      <td>Dealer</td>\n",
       "      <td>Manual</td>\n",
       "      <td>First Owner</td>\n",
       "    </tr>\n",
       "    <tr>\n",
       "      <th>4311</th>\n",
       "      <td>Toyota Camry Hybrid 2.5</td>\n",
       "      <td>2017</td>\n",
       "      <td>1900000</td>\n",
       "      <td>20118</td>\n",
       "      <td>Petrol</td>\n",
       "      <td>Dealer</td>\n",
       "      <td>Automatic</td>\n",
       "      <td>First Owner</td>\n",
       "    </tr>\n",
       "  </tbody>\n",
       "</table>\n",
       "<p>763 rows × 8 columns</p>\n",
       "</div>"
      ],
      "text/plain": [
       "                                 name  year  selling_price  km_driven    fuel  \\\n",
       "13                      Maruti 800 AC  2007          60000      70000  Petrol   \n",
       "14           Maruti Wagon R LXI Minor  2007         135000      50000  Petrol   \n",
       "15               Hyundai Verna 1.6 SX  2012         600000     100000  Diesel   \n",
       "16             Datsun RediGO T Option  2017         250000      46000  Petrol   \n",
       "17              Honda Amaze VX i-DTEC  2014         450000     141000  Diesel   \n",
       "...                               ...   ...            ...        ...     ...   \n",
       "4307                 Mahindra Xylo H4  2019         599000      15000  Diesel   \n",
       "4308              Maruti Alto 800 LXI  2018         200000      35000  Petrol   \n",
       "4309                 Datsun GO Plus T  2017         350000      10171  Petrol   \n",
       "4310  Renault Duster 110PS Diesel RxL  2015         465000      41123  Diesel   \n",
       "4311          Toyota Camry Hybrid 2.5  2017        1900000      20118  Petrol   \n",
       "\n",
       "     seller_type transmission         owner  \n",
       "13    Individual       Manual   First Owner  \n",
       "14    Individual       Manual   First Owner  \n",
       "15    Individual       Manual   First Owner  \n",
       "16    Individual       Manual   First Owner  \n",
       "17    Individual       Manual  Second Owner  \n",
       "...          ...          ...           ...  \n",
       "4307  Individual       Manual   Third Owner  \n",
       "4308  Individual       Manual   First Owner  \n",
       "4309      Dealer       Manual   First Owner  \n",
       "4310      Dealer       Manual   First Owner  \n",
       "4311      Dealer    Automatic   First Owner  \n",
       "\n",
       "[763 rows x 8 columns]"
      ]
     },
     "execution_count": 13,
     "metadata": {},
     "output_type": "execute_result"
    }
   ],
   "source": [
    "# View the duplicate values\n",
    "df_car[df_car.duplicated()]"
   ]
  },
  {
   "cell_type": "code",
   "execution_count": 14,
   "id": "a5cbc9ae",
   "metadata": {},
   "outputs": [],
   "source": [
    "# Dropping the duplicate values\n",
    "df_car.drop_duplicates(inplace=True)"
   ]
  },
  {
   "cell_type": "code",
   "execution_count": 15,
   "id": "af6efa19",
   "metadata": {},
   "outputs": [
    {
     "data": {
      "text/plain": [
       "(3577, 8)"
      ]
     },
     "execution_count": 15,
     "metadata": {},
     "output_type": "execute_result"
    }
   ],
   "source": [
    "df_car.shape"
   ]
  },
  {
   "cell_type": "code",
   "execution_count": 16,
   "id": "db403bc8",
   "metadata": {},
   "outputs": [
    {
     "data": {
      "text/plain": [
       "name             0\n",
       "year             0\n",
       "selling_price    0\n",
       "km_driven        0\n",
       "fuel             0\n",
       "seller_type      0\n",
       "transmission     0\n",
       "owner            0\n",
       "dtype: int64"
      ]
     },
     "execution_count": 16,
     "metadata": {},
     "output_type": "execute_result"
    }
   ],
   "source": [
    "# Checking for null values\n",
    "df_car.isnull().sum()"
   ]
  },
  {
   "cell_type": "code",
   "execution_count": 17,
   "id": "edaa9139",
   "metadata": {},
   "outputs": [
    {
     "data": {
      "text/plain": [
       "name             1491\n",
       "year               27\n",
       "selling_price     445\n",
       "km_driven         770\n",
       "fuel                5\n",
       "seller_type         3\n",
       "transmission        2\n",
       "owner               5\n",
       "dtype: int64"
      ]
     },
     "execution_count": 17,
     "metadata": {},
     "output_type": "execute_result"
    }
   ],
   "source": [
    "# Checking for unique values\n",
    "df_car.nunique()"
   ]
  },
  {
   "cell_type": "code",
   "execution_count": 18,
   "id": "e5596e23",
   "metadata": {},
   "outputs": [
    {
     "name": "stdout",
     "output_type": "stream",
     "text": [
      "['Maruti 800 AC' 'Maruti Wagon R LXI Minor' 'Hyundai Verna 1.6 SX' ...\n",
      " 'Mahindra Verito 1.5 D6 BSIII'\n",
      " 'Toyota Innova 2.5 VX (Diesel) 8 Seater BS IV'\n",
      " 'Hyundai i20 Magna 1.4 CRDi']\n"
     ]
    }
   ],
   "source": [
    "print(df_car.name.unique())"
   ]
  },
  {
   "cell_type": "code",
   "execution_count": 19,
   "id": "b5df25f8",
   "metadata": {},
   "outputs": [
    {
     "name": "stdout",
     "output_type": "stream",
     "text": [
      "[1992, 1995, 1996, 1997, 1998, 1999, 2000, 2001, 2002, 2003, 2004, 2005, 2006, 2007, 2008, 2009, 2010, 2011, 2012, 2013, 2014, 2015, 2016, 2017, 2018, 2019, 2020]\n"
     ]
    }
   ],
   "source": [
    "print(sorted(df_car.year.unique()))"
   ]
  },
  {
   "cell_type": "code",
   "execution_count": 20,
   "id": "ec7e0382",
   "metadata": {},
   "outputs": [
    {
     "name": "stdout",
     "output_type": "stream",
     "text": [
      "['Petrol' 'Diesel' 'CNG' 'LPG' 'Electric']\n"
     ]
    }
   ],
   "source": [
    "print(df_car.fuel.unique())"
   ]
  },
  {
   "cell_type": "code",
   "execution_count": 21,
   "id": "5cd97672",
   "metadata": {},
   "outputs": [
    {
     "name": "stdout",
     "output_type": "stream",
     "text": [
      "['Individual' 'Dealer' 'Trustmark Dealer']\n"
     ]
    }
   ],
   "source": [
    "print(df_car.seller_type.unique())"
   ]
  },
  {
   "cell_type": "code",
   "execution_count": 22,
   "id": "609f8ac9",
   "metadata": {},
   "outputs": [
    {
     "name": "stdout",
     "output_type": "stream",
     "text": [
      "['Manual' 'Automatic']\n"
     ]
    }
   ],
   "source": [
    "print(df_car.transmission.unique())"
   ]
  },
  {
   "cell_type": "code",
   "execution_count": 23,
   "id": "ffabdbb8",
   "metadata": {},
   "outputs": [
    {
     "name": "stdout",
     "output_type": "stream",
     "text": [
      "['First Owner' 'Second Owner' 'Fourth & Above Owner' 'Third Owner'\n",
      " 'Test Drive Car']\n"
     ]
    }
   ],
   "source": [
    "print(df_car.owner.unique())"
   ]
  },
  {
   "cell_type": "code",
   "execution_count": 24,
   "id": "ee60f3eb",
   "metadata": {},
   "outputs": [
    {
     "name": "stdout",
     "output_type": "stream",
     "text": [
      "[  60000  135000  600000  250000  450000  140000  550000  240000  850000\n",
      "  365000  260000 1650000  585000 1195000  390000 1964999 1425000  975000\n",
      " 1190000  930000  525000 1735000 1375000  900000 1300000 1400000  229999\n",
      " 1550000 1250000  625000 1050000  560000  290000  275000  411000  150000\n",
      "  500000  100000  725000  401000  750000  310000  665000  465000  160000\n",
      "  675000  300000   70000  151000  280000  350000  570000  125000  130000\n",
      "  925000  200000  248000   80000  650000  495000  371000 1025000 8150000\n",
      "  325000 1470000 2800000  210000 1150000 4500000 2750000 1975000  175000\n",
      " 2500000  628000  399000  315000  780000  434000  690000  555000  120000\n",
      "  165000   95000  800000  840000  490000  400000 1000000  530000   40000\n",
      "   75000  540000  700000  430000   65000  195000  170000  225000   99000\n",
      "  620000 2550000  320000  810000  282000   72000  640000  380000 1500000\n",
      "  434999  190000 2900000  425000  265000  890000  685000  940000  590000\n",
      "  385000 2000000  235000   52000   89999  180000  285000 1075000   90000\n",
      "  220000  110000  880000  115999  360000  680000  860000  270000  395000\n",
      "  624000  345000  106000 1800000  575000  370000   50000   55000  755000\n",
      "  720000 1100000  159000  335000  185000  470000  145000  595000 1600000\n",
      "  105000  409999  215000  475000  330000 1044999 1350000  420000  760000\n",
      "   43000 1850000 1125000  133000  352000  520000  509999  556000  484999\n",
      "  565000  295000 2050000 1475000 4400000  670000  770000  775000 1725000\n",
      " 2150000 3800000 1580000 4950000  535000  239000 2600000  114999  200999\n",
      "  710000  969999  155000  138000  311000   58000  183000  825000  299000\n",
      "  639000  415000 1199000  699000  269000  249000 1549000  254999  211000\n",
      "  599000 4000000 1200000   98000  790000 1700000   68000  875000 1330000\n",
      "  919999  611000  711000  851000  610000  744000  480000  950000   85000\n",
      "  615000  227000  222000  735000  271000 1490000  455000  421000 2700000\n",
      " 4700000 1900000 1770000  660000  716000  147000 1140000 3050000  375000\n",
      " 1950000  340000 3100000  245000  715000 1750000 3500000  835000 2490000\n",
      " 1015000   91200 2400000  635000  302000  204999  341000  819999  351000\n",
      "  630000 1085000  580000   78000 3200000  695000  355000  619000   81000\n",
      "  486000  802000 2300000  287000  250999   45000 1485000 1825000 3256000\n",
      "  451000  149000  163000  419000  990000  346000  509000   69000 1380000\n",
      "  256000   97000  199000 2595000  730000  368000  545000  641000  784000\n",
      "  324000 2100000  305000  221000  828999 1119000  746000 1030000 1334000\n",
      "  811999 1331000  852000  830000  213000   35000  869999  178000  515000\n",
      "  312000  111000  774000  148000   57000  284000  349000  458000  381000\n",
      "  751000  782000  321000   92800  291000   73000  655000  263000  217000\n",
      "  539000  142000  910000  740000  164000  999000   56000 3899000  440000\n",
      "  238000 1295000  541000  894999  844999  288000 1225000 1010000   30000\n",
      "  396000  281000   93000  459999   88000   22000   79000  198000  182000\n",
      "  861999  836000  696000  596000  612000   20000   61000  511000 1230000\n",
      "  426000   62000 1450000   71000 2200000 1249000 1240000 1068000 1189000\n",
      "  363000  821000  815000  738000  765000  516000  134000  347000 2650000\n",
      " 2675000  359000  980000  707000  471000  377000  763000  701000  277000\n",
      "  936999   82000  799000 1451000 1575000   78692  479000   48000  121000\n",
      "  785000  173000 4800000  587000  123000 1290000  193000  721000 1040000\n",
      " 2349000 1165000   42000 1680000  231999  841000 1280000 1090000  449000\n",
      "  724000  126000  795000 2575000 1035000 1260000 8900000 1860000 4200000\n",
      " 5500000  430999 1151000  927999   51111  212000  428000  219000  749000\n",
      "  233000  614000   37500  865000]\n"
     ]
    }
   ],
   "source": [
    "print(df_car.selling_price.unique())"
   ]
  },
  {
   "cell_type": "code",
   "execution_count": 25,
   "id": "87f0c7bc",
   "metadata": {},
   "outputs": [
    {
     "name": "stdout",
     "output_type": "stream",
     "text": [
      "[ 70000  50000 100000  46000 141000 125000  25000  60000  78000  35000\n",
      "  24000   5000  33000  28000  59000   4500 175900  14500  15000  33800\n",
      " 130400  80000  10000 119000  75800  40000  74000  64000 120000  79000\n",
      "  18500  10200  29000  90000  73300  92000  66764 350000 230000  31000\n",
      "  39000 166000 110000  54000  63000  76000  11958  20000   9000   6500\n",
      "  58000  62200  34000  53000  49000  63500   9800  13000  21000  29173\n",
      "  48000  30000  87000  16000  79350  81000   3600  14272  49213  57000\n",
      "   3240 114000  53772 140000 175000  36000 155500  23000  22155  78380\n",
      " 150000  80362  55000   1136  43000   2650 115962  65000  56000 213000\n",
      " 139000 160000 163000  32000  52000  11240  66000  26500  72000  44000\n",
      " 130000 195000 155000   4000  41000  10832  14681  51000 200000  19600\n",
      "  46730  21170 167223 141440 212814  88635 149674   8000  68000  38000\n",
      "  75000  98000  81925  82080  97000  52047  62009  33100 220000  45000\n",
      " 180000  22000  80577 127500  40903  22288  61690  64484  75976  85962\n",
      "  57035  72104 164000 124439  77000   1250  17152  24005 149000  19000\n",
      " 109000  61000  27633  12586  38083  55328  81632 155201  93283 217871\n",
      "  90165 101504  86017  85036  91086 160254 125531  82000  84000 560000\n",
      "  14365  61083  66363  11700   7104  45974  55340  61585  39415  29654\n",
      "  64672  54634  66521  23974   1000  86000  52600  19890  11918  10510\n",
      "  47162  49824  58500  56580  46507  11451 172000  66508  29900   3000\n",
      "  85000   7900  17500 206500  88600 186000  11000 138000  27974  18000\n",
      "   1400 124000  42000  28205  32670  30093  56228  59319  39503  35299\n",
      "  51687  76259  44049  45087  41125  42215  54206  52547  59110  54565\n",
      "  47564  45143  61624 132000  10980  20629  69782  63654  59385  70378\n",
      "  55425  78413  40890  34823  55545  56541  43700  27483  56207   1440\n",
      "  91195  63657  97248  89000  12000  12997  26430  24600  28481  41988\n",
      "  30375   7658  34400  28942  53600  53652 106000 205000  79500 197000\n",
      "   9161  19077 128000  21302  10500 107000  55300  74300  48781  87620\n",
      "  40219  11473   8352   9745   9748  20694  31080  37605  55850  58850\n",
      "  23839  45454  46957 190000   1500  47000 116000  26350  71042 167870\n",
      " 133564  23038  43608  11212  49217  28838 135000  19571  29600  13500\n",
      "  48600 127643 102354  62237  21394  32686   1001  53261  14000  39895\n",
      "  73000  17000  18591  26766 300000  27620 223000 161327   6000  71000\n",
      " 144000  37000  26000  27000  13250 101000   8500  90246  60400  70950\n",
      "   1100  31491 107143  46412 107500  43826  55838 112880  30300  80659\n",
      "  81324 127884  66755 123084 806599  95851 234000 170000  96000  19014\n",
      "  23262  35925  40771  30500  55800  66569  81358  82695  68293 190621\n",
      "  64700  88470 126000  74183      1 192000  83411  13270  88000   7000\n",
      "  13770 102000 143000 115000 136906 133000  28689  80322  61658 185000\n",
      "  30600 235000  67000  74500 118700 223660   2000  73756  16400  41395\n",
      "  71014 181000  89550 149500  83000  44800 156000 146000  99000  37516\n",
      "  25880 136000   2020  94000  88500  52536   1950 118400   6480  32077\n",
      "  19107  18469  28217  72787  31063  79641  58692  54784  64156   9500\n",
      "  81366 244000 312000 145000   7300  72539    101  52328  91505  20500\n",
      " 154000  41723  68745  27289  24662  28245  27005  39227  31367  35008\n",
      " 100005  45264  39093  45241   2769  43128  22255  59213   1010   1111\n",
      "  48965   5166  76290  45766  78771  79357  76736  92645 101849 155836\n",
      "  63230   1758   1452  35122  92621  92198 152000  78322  54309  34600\n",
      "  38217  77073  16584  81257   3917  69069  59059  39039  33033  55168\n",
      "  41041  67067  66066  82082  70070  63063   9528 135200  50300 151624\n",
      "  74820 129000  66778  63400 157000  38500 103921  14825  43377 102307\n",
      " 245244  68500   5007  49600  43100  10171  41123  20118  52517  99117\n",
      "   3700  43500 137250   5400  11200  93000  62000   5800 267000 250000\n",
      "  28635  32114  95149  68458 105546 104000 132343  26134  52895  42324\n",
      "  60236  10300 142000  28643   7600  47253   4432  68523  80251  34500\n",
      "  42743  93900  55766 113600 138925 121764 105429  23122  44500  13599\n",
      "   5200  12700  95000  45839  74510  87293 156040  93415 101159  68519\n",
      "  55130  65239  58182  91245 102989 108000 178000  75118   4637  42655\n",
      "  69000 117000 105000 182000  24585  13900  17563 173000 151000 117780\n",
      "  81595   9700 221000  28740  48500 148620 270000  41090 296823  89255\n",
      " 168000   5550   1700  45217  44440  91365  90010  31800  59100  31200\n",
      "  22700  50900   2417  65500 140300  10211 260000  32933  54551  57112\n",
      "  41025  53122  64111  78892  74113  84775  20778  64441  43192  44416\n",
      "  79991  62601  89600  60800  69111  20969  20194  34982  44588  57904\n",
      "  59258  60826   1300  31707 115992 109052  90658  25552  40700  11174\n",
      "  72500  76600  97700  37500  23800  44077 210000   9422 240000  17100\n",
      " 224642 222435 159000 101100   1200 134444 238000 165000  63700  74800\n",
      "  60516  76731  63840  76400  31489 295000 158000 400000  19495  62668\n",
      "  85710  63356 129627   4400  14987  25061  42494  44875  89741 347089\n",
      " 222252  55250  12500 162000  22038   2500  89126 134000  42500 131365\n",
      "  48980  98900  13800  99700  49654  45457  39221  48220  11114  60208\n",
      "  98600  85441  64541  16267  71500  12999  14700  92686  49359 108731\n",
      "  29976  30646  23600  71318  78098  18054  38406  54350  32260  58231\n",
      "  59858  73350  88473  96987  77350  61187  68350  81150 280000 105700\n",
      "  37091  38900   9400  14100  37555  56600  67580  48238  38365  23670\n",
      "  49834  57353  68308  63240  64916  37161 118000  50852  53500  51500\n",
      "  79800   6590  49957  43235  50699 140730 256000 218000  66782 112198]\n"
     ]
    }
   ],
   "source": [
    "print(df_car.km_driven.unique())"
   ]
  },
  {
   "cell_type": "markdown",
   "id": "69e57198",
   "metadata": {},
   "source": [
    "#### Featuring the Traget variable."
   ]
  },
  {
   "cell_type": "code",
   "execution_count": 26,
   "id": "222ab162",
   "metadata": {},
   "outputs": [
    {
     "data": {
      "text/plain": [
       "0        60000\n",
       "1       135000\n",
       "2       600000\n",
       "3       250000\n",
       "4       450000\n",
       "         ...  \n",
       "4335    409999\n",
       "4336    409999\n",
       "4337    110000\n",
       "4338    865000\n",
       "4339    225000\n",
       "Name: selling_price, Length: 3577, dtype: int64"
      ]
     },
     "execution_count": 26,
     "metadata": {},
     "output_type": "execute_result"
    }
   ],
   "source": [
    "df_car['selling_price']"
   ]
  },
  {
   "cell_type": "code",
   "execution_count": 27,
   "id": "36de3dd2",
   "metadata": {},
   "outputs": [
    {
     "data": {
      "text/plain": [
       "300000     137\n",
       "250000     112\n",
       "350000     106\n",
       "500000      87\n",
       "600000      84\n",
       "          ... \n",
       "2595000      1\n",
       "368000       1\n",
       "248000       1\n",
       "641000       1\n",
       "865000       1\n",
       "Name: selling_price, Length: 445, dtype: int64"
      ]
     },
     "execution_count": 27,
     "metadata": {},
     "output_type": "execute_result"
    }
   ],
   "source": [
    "df_car.selling_price.value_counts()"
   ]
  },
  {
   "cell_type": "markdown",
   "id": "26bb5fa5",
   "metadata": {},
   "source": [
    "## 📊 <u>Data Visualization"
   ]
  },
  {
   "cell_type": "code",
   "execution_count": 28,
   "id": "62253372",
   "metadata": {},
   "outputs": [
    {
     "data": {
      "image/png": "[encoded data removed]",
      "text/plain": [
       "<Figure size 432x288 with 1 Axes>"
      ]
     },
     "metadata": {
      "needs_background": "light"
     },
     "output_type": "display_data"
    }
   ],
   "source": [
    "# We use (value_counts) to know to know the sold numbers of each car use (plot) to draw the graph\n",
    "df_car[\"name\"].value_counts(normalize = True)[:5].plot(kind = 'bar')\n",
    "plt.show()"
   ]
  },
  {
   "cell_type": "code",
   "execution_count": 29,
   "id": "4335a643",
   "metadata": {},
   "outputs": [
    {
     "name": "stdout",
     "output_type": "stream",
     "text": [
      "29\n",
      "['Maruti' 'Hyundai' 'Datsun' 'Honda' 'Tata' 'Chevrolet' 'Toyota' 'Jaguar'\n",
      " 'Mercedes-Benz' 'Audi' 'Skoda' 'Jeep' 'BMW' 'Mahindra' 'Ford' 'Nissan'\n",
      " 'Renault' 'Fiat' 'Volkswagen' 'Volvo' 'Mitsubishi' 'Land' 'Daewoo' 'MG'\n",
      " 'Force' 'Isuzu' 'OpelCorsa' 'Ambassador' 'Kia']\n",
      "0     Maruti\n",
      "1     Maruti\n",
      "2    Hyundai\n",
      "3     Datsun\n",
      "4      Honda\n",
      "Name: brand, dtype: object\n"
     ]
    }
   ],
   "source": [
    "# creating a new column 'brand' using the name of the car\n",
    "df_car['brand'] = df_car['name'].apply(lambda x:x.split()[0])\n",
    "# checking the unique values of the brand and showing the first 5 rows of brand column\n",
    "print(df_car['brand'].nunique())\n",
    "print(df_car['brand'].unique())\n",
    "print(df_car['brand'].head())"
   ]
  },
  {
   "cell_type": "code",
   "execution_count": 30,
   "id": "8de00843",
   "metadata": {},
   "outputs": [
    {
     "data": {
      "image/png": "[encoded data removed]",
      "text/plain": [
       "<Figure size 720x1152 with 1 Axes>"
      ]
     },
     "metadata": {
      "needs_background": "light"
     },
     "output_type": "display_data"
    }
   ],
   "source": [
    "# We use groupby and mean to extract values and plot to draw the graph\n",
    "price = df_car.groupby(['brand'])[['selling_price']].mean()\n",
    "price.sort_values(by='selling_price', ascending=True, inplace=True)\n",
    "ax   = price.plot(kind='barh', cmap='PRGn' , figsize=(10,16) ,title= 'Avarege Selling Price Car Brand')\n",
    "for c in ax.containers:\n",
    "        # set the bar label\n",
    "    ax.bar_label(c, fmt='%.0f',label_type='center', color='w',rotation=0)"
   ]
  },
  {
   "cell_type": "code",
   "execution_count": 31,
   "id": "da4b7ca9",
   "metadata": {},
   "outputs": [
    {
     "data": {
      "image/png": "[encoded data removed]",
      "text/plain": [
       "<Figure size 432x288 with 1 Axes>"
      ]
     },
     "metadata": {
      "needs_background": "light"
     },
     "output_type": "display_data"
    }
   ],
   "source": [
    "sns.countplot(data=df_car,x=\"brand\",palette=\"CMRmap\")\n",
    "plt.xticks(rotation=90)\n",
    "plt.xlabel(\"Brand\",fontsize=10,color=\"black\")\n",
    "plt.ylabel(\"Count\",fontsize=10,color=\"black\")\n",
    "plt.title(\"BRAND COUNT\",color=\"black\")\n",
    "plt.show()"
   ]
  },
  {
   "cell_type": "markdown",
   "id": "46b82a81",
   "metadata": {},
   "source": [
    "##### The most common car model is the Maruti.\n",
    "\n",
    "INFORMATION: Maruti Suzuki India Limited, formerly known as Maruti Udyog Limited, is an Indian automobile manufacturer, based in New Delhi."
   ]
  },
  {
   "cell_type": "markdown",
   "id": "b30abeb0",
   "metadata": {},
   "source": [
    "#### <u>Distribution Plots (Year - KM_Driven - Selling_Price)"
   ]
  },
  {
   "cell_type": "code",
   "execution_count": 32,
   "id": "01dd07c2",
   "metadata": {},
   "outputs": [
    {
     "data": {
      "image/png": "[encoded data removed]",
      "text/plain": [
       "<Figure size 1440x432 with 3 Axes>"
      ]
     },
     "metadata": {
      "needs_background": "light"
     },
     "output_type": "display_data"
    }
   ],
   "source": [
    "# Set up the matplotlib figure\n",
    "f, axes = plt.subplots(ncols=3, figsize=(20, 6))\n",
    "\n",
    "# Graph for Car Manufacturing Year\n",
    "sns.distplot(df_car['year'], kde=False, color=\"g\", ax=axes[0]).set_title('Year Manufacture Distribution')\n",
    "axes[0].set_ylabel('Car Count')\n",
    "\n",
    "# Graph for KMs Driven by Car\n",
    "sns.distplot(df_car['km_driven'], kde=False, color=\"r\", ax=axes[1]).set_title('KMs Driven Distribution')\n",
    "axes[1].set_ylabel('Car Count')\n",
    "axes[1].set_xlim([0,200000])\n",
    "\n",
    "# Graph for Selling Price of the Car\n",
    "sns.distplot(df_car['selling_price'], kde=False, color=\"b\", ax=axes[2]).set_title('Selling Price Distribution')\n",
    "axes[2].set_ylabel('Car Count')\n",
    "axes[2].set_xlim([0,800000])\n",
    "\n",
    "plt.show()"
   ]
  },
  {
   "cell_type": "markdown",
   "id": "7488b806",
   "metadata": {},
   "source": [
    "#### Summary:\n",
    "Year - There is a huge spike for cars manufactured between 2011 to 2018.<br>\n",
    "KMs Driven - There is a unimodal distrubtion of km driven with the largest spike in between 50000 to 75000 kms.<br>\n",
    "Selling Price - There is another unimodal distribution of selling price with the largest spike between 250000 to 400000.<br>\n",
    "The km driven and selling price graphs both share a similar distribution."
   ]
  },
  {
   "cell_type": "markdown",
   "id": "a828e183",
   "metadata": {},
   "source": [
    "#### <u>Scatter Plot of Selling Price and KMs Driven"
   ]
  },
  {
   "cell_type": "code",
   "execution_count": 33,
   "id": "8f3d1a16",
   "metadata": {
    "scrolled": true
   },
   "outputs": [
    {
     "data": {
      "image/png": "[encoded data removed]",
      "text/plain": [
       "<Figure size 432x288 with 1 Axes>"
      ]
     },
     "metadata": {
      "needs_background": "light"
     },
     "output_type": "display_data"
    }
   ],
   "source": [
    "sns.scatterplot(x=df_car['km_driven'], y = df_car['selling_price'])\n",
    "plt.show()"
   ]
  },
  {
   "cell_type": "markdown",
   "id": "83cf80f7",
   "metadata": {},
   "source": [
    "#### <u>Graph to view sales classified by fuel"
   ]
  },
  {
   "cell_type": "code",
   "execution_count": 34,
   "id": "7c00b7f4",
   "metadata": {},
   "outputs": [
    {
     "data": {
      "text/plain": [
       "Diesel      1800\n",
       "Petrol      1717\n",
       "CNG           37\n",
       "LPG           22\n",
       "Electric       1\n",
       "Name: fuel, dtype: int64"
      ]
     },
     "execution_count": 34,
     "metadata": {},
     "output_type": "execute_result"
    }
   ],
   "source": [
    "df_car.fuel.value_counts()"
   ]
  },
  {
   "cell_type": "code",
   "execution_count": 35,
   "id": "a6eee06b",
   "metadata": {},
   "outputs": [
    {
     "data": {
      "image/png": "[encoded data removed]",
      "text/plain": [
       "<Figure size 432x288 with 1 Axes>"
      ]
     },
     "metadata": {
      "needs_background": "light"
     },
     "output_type": "display_data"
    }
   ],
   "source": [
    "sns.countplot(data=df_car,x=\"fuel\",palette=\"ocean\")\n",
    "plt.xlabel(\"FUEL\",fontsize=10,color=\"blue\")\n",
    "plt.ylabel(\"COUNT\",fontsize=10,color=\"blue\")\n",
    "plt.title(\"FUEL COUNT\",color=\"b\")\n",
    "plt.show()"
   ]
  },
  {
   "cell_type": "markdown",
   "id": "24e3be5f",
   "metadata": {},
   "source": [
    "#### <u>Histogram distribution of Manual and Automatic cars by years."
   ]
  },
  {
   "cell_type": "code",
   "execution_count": 36,
   "id": "bfe7718e",
   "metadata": {},
   "outputs": [
    {
     "data": {
      "image/png": "[encoded data removed]",
      "text/plain": [
       "<Figure size 432x288 with 1 Axes>"
      ]
     },
     "metadata": {
      "needs_background": "light"
     },
     "output_type": "display_data"
    }
   ],
   "source": [
    "sns.histplot(data=df_car, x=\"year\", hue=\"transmission\")\n",
    "plt.xticks(rotation=45)\n",
    "plt.show()"
   ]
  },
  {
   "cell_type": "markdown",
   "id": "82e36ac4",
   "metadata": {},
   "source": [
    "#### <u>Violin graph showing the distribution of Manual and Automatic cars by years."
   ]
  },
  {
   "cell_type": "code",
   "execution_count": 37,
   "id": "7db11e66",
   "metadata": {},
   "outputs": [
    {
     "data": {
      "image/png": "[encoded data removed]",
      "text/plain": [
       "<Figure size 432x288 with 1 Axes>"
      ]
     },
     "metadata": {
      "needs_background": "light"
     },
     "output_type": "display_data"
    }
   ],
   "source": [
    "sns.violinplot(data=df_car, x=\"year\", y=\"fuel\",hue=\"transmission\")\n",
    "plt.show()"
   ]
  },
  {
   "cell_type": "markdown",
   "id": "24eea62b",
   "metadata": {},
   "source": [
    "#### <u>The relationship between km_driven and price"
   ]
  },
  {
   "cell_type": "code",
   "execution_count": 38,
   "id": "195da8fb",
   "metadata": {},
   "outputs": [
    {
     "data": {
      "image/png": "[encoded data removed]",
      "text/plain": [
       "<Figure size 576x288 with 1 Axes>"
      ]
     },
     "metadata": {
      "needs_background": "light"
     },
     "output_type": "display_data"
    }
   ],
   "source": [
    "#We will display bar graphs scatter\n",
    "df_car.plot(x=\"km_driven\", y=\"selling_price\", kind=\"scatter\", figsize=(8, 4), title=\"Price & km_driven\", color=\"green\");"
   ]
  },
  {
   "cell_type": "markdown",
   "id": "f1575085",
   "metadata": {},
   "source": [
    "#### <u>The relationship between km_driven and year"
   ]
  },
  {
   "cell_type": "code",
   "execution_count": 39,
   "id": "c60b0c59",
   "metadata": {},
   "outputs": [
    {
     "data": {
      "image/png": "[encoded data removed]",
      "text/plain": [
       "<Figure size 576x288 with 1 Axes>"
      ]
     },
     "metadata": {
      "needs_background": "light"
     },
     "output_type": "display_data"
    }
   ],
   "source": [
    "#We will display bar graphs scatter\n",
    "df_car.plot(x=\"year\", y=\"selling_price\", kind=\"scatter\", figsize=(8, 4), title=\"Price & Year\", color=\"green\");"
   ]
  },
  {
   "cell_type": "markdown",
   "id": "9229be9e",
   "metadata": {},
   "source": [
    "#### <u>Selling Price vs Fuel"
   ]
  },
  {
   "cell_type": "code",
   "execution_count": 40,
   "id": "f9b1f7be",
   "metadata": {},
   "outputs": [
    {
     "data": {
      "image/png": "[encoded data removed]",
      "text/plain": [
       "<Figure size 864x360 with 1 Axes>"
      ]
     },
     "metadata": {
      "needs_background": "light"
     },
     "output_type": "display_data"
    }
   ],
   "source": [
    "plt.figure(figsize=(12,5))\n",
    "sns.boxplot(y='fuel', x = 'selling_price', data = df_car)\n",
    "plt.show()"
   ]
  },
  {
   "cell_type": "markdown",
   "id": "22656987",
   "metadata": {},
   "source": [
    "#### Inference :-\n",
    "Petrol and Diesel cars are both have similar selling price with petrol cars are ahead.<br>\n",
    "Diesel cars have high selling price compared to petrol cars.<br>\n",
    "CNG, LPG and Electric cars are much cheaper in the old cars market."
   ]
  },
  {
   "cell_type": "markdown",
   "id": "7b8ff7d0",
   "metadata": {},
   "source": [
    "#### <u>Selling Price vs Seller Type"
   ]
  },
  {
   "cell_type": "code",
   "execution_count": 41,
   "id": "e9f0787f",
   "metadata": {},
   "outputs": [
    {
     "data": {
      "image/png": "[encoded data removed]",
      "text/plain": [
       "<Figure size 864x360 with 1 Axes>"
      ]
     },
     "metadata": {
      "needs_background": "light"
     },
     "output_type": "display_data"
    }
   ],
   "source": [
    "plt.figure(figsize=(12,5))\n",
    "sns.boxplot(y='seller_type', x = 'selling_price', data = df_car)\n",
    "plt.show()"
   ]
  },
  {
   "cell_type": "markdown",
   "id": "7d2bb7eb",
   "metadata": {},
   "source": [
    "#### Inference :-\n",
    "Trustmark dealer have significatly lowest selling price.<br>\n",
    "Dealers average selling price is more than the Individual selling price."
   ]
  },
  {
   "cell_type": "markdown",
   "id": "f9734320",
   "metadata": {},
   "source": [
    "#### <u>Selling Price vs Transmission"
   ]
  },
  {
   "cell_type": "code",
   "execution_count": 42,
   "id": "7817c672",
   "metadata": {},
   "outputs": [
    {
     "data": {
      "image/png": "[encoded data removed]",
      "text/plain": [
       "<Figure size 720x216 with 1 Axes>"
      ]
     },
     "metadata": {
      "needs_background": "light"
     },
     "output_type": "display_data"
    }
   ],
   "source": [
    "plt.figure(figsize=(10,3))\n",
    "sns.boxplot(y='transmission', x = 'selling_price', data = df_car)\n",
    "plt.show()"
   ]
  },
  {
   "cell_type": "markdown",
   "id": "cb293562",
   "metadata": {},
   "source": [
    "#### Inference :-\n",
    "Automatic cars are more expensive than the manual cars."
   ]
  },
  {
   "cell_type": "markdown",
   "id": "d0dbbc66",
   "metadata": {},
   "source": [
    "#### <u>Selling Price vs Owner"
   ]
  },
  {
   "cell_type": "code",
   "execution_count": 43,
   "id": "ce2bc7f1",
   "metadata": {},
   "outputs": [
    {
     "data": {
      "image/png": "[encoded data removed]",
      "text/plain": [
       "<Figure size 648x360 with 1 Axes>"
      ]
     },
     "metadata": {
      "needs_background": "light"
     },
     "output_type": "display_data"
    }
   ],
   "source": [
    "plt.figure(figsize=(9,5))\n",
    "plt.barh(df_car['owner'], df_car['selling_price'], color = 'blue')\n",
    "plt.title('Selling Price vs Owner')\n",
    "plt.xlabel('Selling Price')\n",
    "plt.ylabel('Owner Type')\n",
    "plt.show()"
   ]
  },
  {
   "cell_type": "markdown",
   "id": "655b78c0",
   "metadata": {},
   "source": [
    "#### Inference :-\n",
    "First owner cars have the highest selling price followed by Second owner.<br>\n",
    "Fourth & Above owner cars significantly have the lowest selling price.<br>\n",
    "Although Test Drive car price is even higher than the fourth & above owner."
   ]
  },
  {
   "cell_type": "markdown",
   "id": "e71b60d9",
   "metadata": {},
   "source": [
    "## <u>Modeling the Data"
   ]
  },
  {
   "cell_type": "markdown",
   "id": "6961503f",
   "metadata": {},
   "source": [
    "#### Extracting non-numeric columns and converting into numeric columns by Label Encoder"
   ]
  },
  {
   "cell_type": "code",
   "execution_count": 44,
   "id": "3ce24f81",
   "metadata": {},
   "outputs": [
    {
     "data": {
      "text/html": [
       "<div>\n",
       "<style scoped>\n",
       "    .dataframe tbody tr th:only-of-type {\n",
       "        vertical-align: middle;\n",
       "    }\n",
       "\n",
       "    .dataframe tbody tr th {\n",
       "        vertical-align: top;\n",
       "    }\n",
       "\n",
       "    .dataframe thead th {\n",
       "        text-align: right;\n",
       "    }\n",
       "</style>\n",
       "<table border=\"1\" class=\"dataframe\">\n",
       "  <thead>\n",
       "    <tr style=\"text-align: right;\">\n",
       "      <th></th>\n",
       "      <th>name</th>\n",
       "      <th>year</th>\n",
       "      <th>selling_price</th>\n",
       "      <th>km_driven</th>\n",
       "      <th>fuel</th>\n",
       "      <th>seller_type</th>\n",
       "      <th>transmission</th>\n",
       "      <th>owner</th>\n",
       "      <th>brand</th>\n",
       "    </tr>\n",
       "  </thead>\n",
       "  <tbody>\n",
       "    <tr>\n",
       "      <th>0</th>\n",
       "      <td>Maruti 800 AC</td>\n",
       "      <td>2007</td>\n",
       "      <td>60000</td>\n",
       "      <td>70000</td>\n",
       "      <td>4</td>\n",
       "      <td>1</td>\n",
       "      <td>1</td>\n",
       "      <td>0</td>\n",
       "      <td>Maruti</td>\n",
       "    </tr>\n",
       "    <tr>\n",
       "      <th>1</th>\n",
       "      <td>Maruti Wagon R LXI Minor</td>\n",
       "      <td>2007</td>\n",
       "      <td>135000</td>\n",
       "      <td>50000</td>\n",
       "      <td>4</td>\n",
       "      <td>1</td>\n",
       "      <td>1</td>\n",
       "      <td>0</td>\n",
       "      <td>Maruti</td>\n",
       "    </tr>\n",
       "    <tr>\n",
       "      <th>2</th>\n",
       "      <td>Hyundai Verna 1.6 SX</td>\n",
       "      <td>2012</td>\n",
       "      <td>600000</td>\n",
       "      <td>100000</td>\n",
       "      <td>1</td>\n",
       "      <td>1</td>\n",
       "      <td>1</td>\n",
       "      <td>0</td>\n",
       "      <td>Hyundai</td>\n",
       "    </tr>\n",
       "    <tr>\n",
       "      <th>3</th>\n",
       "      <td>Datsun RediGO T Option</td>\n",
       "      <td>2017</td>\n",
       "      <td>250000</td>\n",
       "      <td>46000</td>\n",
       "      <td>4</td>\n",
       "      <td>1</td>\n",
       "      <td>1</td>\n",
       "      <td>0</td>\n",
       "      <td>Datsun</td>\n",
       "    </tr>\n",
       "    <tr>\n",
       "      <th>4</th>\n",
       "      <td>Honda Amaze VX i-DTEC</td>\n",
       "      <td>2014</td>\n",
       "      <td>450000</td>\n",
       "      <td>141000</td>\n",
       "      <td>1</td>\n",
       "      <td>1</td>\n",
       "      <td>1</td>\n",
       "      <td>2</td>\n",
       "      <td>Honda</td>\n",
       "    </tr>\n",
       "  </tbody>\n",
       "</table>\n",
       "</div>"
      ],
      "text/plain": [
       "                       name  year  selling_price  km_driven  fuel  \\\n",
       "0             Maruti 800 AC  2007          60000      70000     4   \n",
       "1  Maruti Wagon R LXI Minor  2007         135000      50000     4   \n",
       "2      Hyundai Verna 1.6 SX  2012         600000     100000     1   \n",
       "3    Datsun RediGO T Option  2017         250000      46000     4   \n",
       "4     Honda Amaze VX i-DTEC  2014         450000     141000     1   \n",
       "\n",
       "   seller_type  transmission  owner    brand  \n",
       "0            1             1      0   Maruti  \n",
       "1            1             1      0   Maruti  \n",
       "2            1             1      0  Hyundai  \n",
       "3            1             1      0   Datsun  \n",
       "4            1             1      2    Honda  "
      ]
     },
     "execution_count": 44,
     "metadata": {},
     "output_type": "execute_result"
    }
   ],
   "source": [
    "from sklearn.preprocessing import LabelEncoder\n",
    "\n",
    "le = LabelEncoder()\n",
    "columns = ['fuel','seller_type','transmission','owner']\n",
    "for col in columns:\n",
    "  df_car[col] = le.fit_transform(df_car[col])\n",
    "\n",
    "df_car.head()"
   ]
  },
  {
   "cell_type": "markdown",
   "id": "9693d0bb",
   "metadata": {},
   "source": [
    "### <u>Selecting the Dependent and Independent Features"
   ]
  },
  {
   "cell_type": "code",
   "execution_count": 45,
   "id": "5fe8b80a",
   "metadata": {},
   "outputs": [
    {
     "name": "stdout",
     "output_type": "stream",
     "text": [
      "<class 'pandas.core.frame.DataFrame'>\n",
      "<class 'pandas.core.series.Series'>\n",
      "(3577, 6)\n",
      "(3577,)\n"
     ]
    }
   ],
   "source": [
    "x = df_car.drop(['selling_price','name','brand'],axis=1)\n",
    "y = df_car['selling_price']\n",
    "\n",
    "print(type(x))\n",
    "print(type(y))\n",
    "\n",
    "print(x.shape)\n",
    "print(y.shape)"
   ]
  },
  {
   "cell_type": "markdown",
   "id": "e0d2fef1",
   "metadata": {},
   "source": [
    "### <u>Splitting the data into train and test data"
   ]
  },
  {
   "cell_type": "code",
   "execution_count": 46,
   "id": "4e65724f",
   "metadata": {},
   "outputs": [
    {
     "name": "stdout",
     "output_type": "stream",
     "text": [
      "(2682, 6)\n",
      "(895, 6)\n",
      "(2682,)\n",
      "(895,)\n"
     ]
    }
   ],
   "source": [
    "from sklearn.model_selection import train_test_split\n",
    "x_train, x_test, y_train, y_test = train_test_split(x, y, test_size = 0.25, random_state = 1)\n",
    "\n",
    "print(x_train.shape)\n",
    "print(x_test.shape)\n",
    "\n",
    "print(y_train.shape)\n",
    "print(y_test.shape)"
   ]
  },
  {
   "cell_type": "markdown",
   "id": "282f39cb",
   "metadata": {},
   "source": [
    "### <u>Creating function to evaluate the Regression Evaluation Metrics"
   ]
  },
  {
   "cell_type": "code",
   "execution_count": 47,
   "id": "3b5078e8",
   "metadata": {},
   "outputs": [],
   "source": [
    "from sklearn.metrics import mean_absolute_error, mean_squared_error, r2_score"
   ]
  },
  {
   "cell_type": "code",
   "execution_count": 48,
   "id": "42ab007f",
   "metadata": {},
   "outputs": [],
   "source": [
    "# Function for Regression Evaluation Metrics\n",
    "\n",
    "def reg_eval_metrics(ytest, ypred):\n",
    "    mae = mean_absolute_error(ytest, ypred)\n",
    "    mse = mean_squared_error(ytest, ypred)\n",
    "    rmse = np.sqrt(mean_squared_error(ytest, ypred))\n",
    "    print(\"MAE:\", mae)\n",
    "    print(\"MSE:\", mse)\n",
    "    print(\"RMSE:\", rmse)\n",
    "\n",
    "def mscore(model):\n",
    "    print('Training Score',model.score(x_train,y_train)) # Trainng R2 score\n",
    "    print('Testing Score',model.score(x_test,y_test))    # Testing R2 Score"
   ]
  },
  {
   "cell_type": "markdown",
   "id": "3a85a896",
   "metadata": {},
   "source": [
    "#### Importing ML Regression Libraries"
   ]
  },
  {
   "cell_type": "code",
   "execution_count": 49,
   "id": "7a7ed190",
   "metadata": {},
   "outputs": [],
   "source": [
    "from sklearn.linear_model import LinearRegression\n",
    "from sklearn.linear_model import Ridge, Lasso\n",
    "from sklearn.neighbors import KNeighborsRegressor \n",
    "from sklearn.tree import DecisionTreeRegressor\n",
    "from sklearn.ensemble import RandomForestRegressor\n",
    "from sklearn.ensemble import GradientBoostingRegressor\n",
    "from sklearn.ensemble import AdaBoostRegressor\n",
    "from xgboost import XGBRegressor\n",
    "\n"
   ]
  },
  {
   "cell_type": "markdown",
   "id": "88cdd3df",
   "metadata": {},
   "source": [
    "#### 1) Linear Regression"
   ]
  },
  {
   "cell_type": "code",
   "execution_count": 50,
   "id": "b205979d",
   "metadata": {},
   "outputs": [
    {
     "name": "stdout",
     "output_type": "stream",
     "text": [
      "Training Score 0.4366509063817785\n",
      "Testing Score 0.40116798367200357\n",
      "MAE: 220363.98718721207\n",
      "MSE: 222443749130.57748\n",
      "RMSE: 471639.4270314744\n"
     ]
    },
    {
     "data": {
      "text/plain": [
       "40.11679836720036"
      ]
     },
     "execution_count": 50,
     "metadata": {},
     "output_type": "execute_result"
    }
   ],
   "source": [
    "# Create the Linear Regression Model\n",
    "lin_reg = LinearRegression()\n",
    "lin_reg.fit(x_train,y_train)\n",
    "\n",
    "# Computing Training and Testing score\n",
    "mscore(lin_reg)\n",
    "\n",
    "# Generating Prediction\n",
    "ypred_lr = lin_reg.predict(x_test)\n",
    "ypred_lr\n",
    "\n",
    "# Evaluating the model \n",
    "reg_eval_metrics(y_test,ypred_lr)\n",
    "\n",
    "# Evaluating Model : R2 score\n",
    "r2_lr = r2_score(y_test,ypred_lr)*100\n",
    "r2_lr"
   ]
  },
  {
   "cell_type": "markdown",
   "id": "b8f9402c",
   "metadata": {},
   "source": [
    "#### 2)Random Forest"
   ]
  },
  {
   "cell_type": "code",
   "execution_count": 51,
   "id": "d499fb0a",
   "metadata": {},
   "outputs": [
    {
     "name": "stdout",
     "output_type": "stream",
     "text": [
      "Training Score 0.8683436690403197\n",
      "Testing Score 0.4466876715124031\n",
      "MAE: 198216.81052695718\n",
      "MSE: 205534883628.4264\n",
      "RMSE: 453359.55226335133\n"
     ]
    },
    {
     "data": {
      "text/plain": [
       "44.66876715124031"
      ]
     },
     "execution_count": 51,
     "metadata": {},
     "output_type": "execute_result"
    }
   ],
   "source": [
    "# Create the RandomForest Regression Model\n",
    "rf = RandomForestRegressor(n_estimators=100)\n",
    "rf.fit(x_train,y_train)\n",
    "\n",
    "# Computing Training and Testing score\n",
    "mscore(rf)\n",
    "\n",
    "# Generating Prediction\n",
    "ypred_rf = rf.predict(x_test)\n",
    "ypred_rf\n",
    "\n",
    "# Evaluating the model \n",
    "reg_eval_metrics(y_test,ypred_rf)\n",
    "\n",
    "# Evaluating Model : R2 score\n",
    "r2_rf = r2_score(y_test,ypred_rf)*100\n",
    "r2_rf"
   ]
  },
  {
   "cell_type": "markdown",
   "id": "b2a8ec3e",
   "metadata": {},
   "source": [
    "#### 3)Knn Regression"
   ]
  },
  {
   "cell_type": "code",
   "execution_count": 52,
   "id": "3fd05805",
   "metadata": {},
   "outputs": [
    {
     "name": "stdout",
     "output_type": "stream",
     "text": [
      "Training Score 0.4508168249567166\n",
      "Testing Score 0.12642398810829114\n",
      "MAE: 260281.3769832402\n",
      "MSE: 324500891631.1758\n",
      "RMSE: 569649.7973590229\n"
     ]
    },
    {
     "data": {
      "text/plain": [
       "12.642398810829114"
      ]
     },
     "execution_count": 52,
     "metadata": {},
     "output_type": "execute_result"
    }
   ],
   "source": [
    "# Create the KNeighbors Regression Model\n",
    "knn = KNeighborsRegressor(n_neighbors=5)\n",
    "knn.fit(x_train,y_train)\n",
    "\n",
    "# Compute Training and Testing score\n",
    "mscore(knn)\n",
    "\n",
    "# Generating Prediction\n",
    "ypred_knn = knn.predict(x_test)\n",
    "ypred_knn\n",
    "\n",
    "# Evaluating the model \n",
    "reg_eval_metrics(y_test,ypred_knn)\n",
    "\n",
    "# Evaluating Model : R2 score\n",
    "r2_knn = r2_score(y_test,ypred_knn)*100\n",
    "r2_knn"
   ]
  },
  {
   "cell_type": "markdown",
   "id": "6d7e6d87",
   "metadata": {},
   "source": [
    "#### 4)Decision Tree Regression"
   ]
  },
  {
   "cell_type": "code",
   "execution_count": 53,
   "id": "657d5843",
   "metadata": {},
   "outputs": [
    {
     "name": "stdout",
     "output_type": "stream",
     "text": [
      "Training Score 0.9346800296015875\n",
      "Testing Score 0.2999028546081606\n",
      "MAE: 228697.65754189945\n",
      "MSE: 260059965950.9137\n",
      "RMSE: 509960.7494218684\n"
     ]
    },
    {
     "data": {
      "text/plain": [
       "29.990285460816057"
      ]
     },
     "execution_count": 53,
     "metadata": {},
     "output_type": "execute_result"
    }
   ],
   "source": [
    "# Create the DecisionTree Regression Model\n",
    "dt = DecisionTreeRegressor(criterion='absolute_error')\n",
    "dt.fit(x_train,y_train)\n",
    "\n",
    "# Compute Training and Testing score\n",
    "mscore(dt)\n",
    "\n",
    "# Generating Prediction\n",
    "ypred_dt = dt.predict(x_test)\n",
    "ypred_dt\n",
    "\n",
    "# Evaluating the model \n",
    "reg_eval_metrics(y_test,ypred_dt)\n",
    "\n",
    "# Evaluating Model : R2 score\n",
    "r2_dt = r2_score(y_test,ypred_dt)*100\n",
    "r2_dt"
   ]
  },
  {
   "cell_type": "markdown",
   "id": "e3240bd2",
   "metadata": {},
   "source": [
    "#### 5)Gradient Boosting Regression"
   ]
  },
  {
   "cell_type": "code",
   "execution_count": 54,
   "id": "3aff35e7",
   "metadata": {
    "scrolled": true
   },
   "outputs": [
    {
     "name": "stdout",
     "output_type": "stream",
     "text": [
      "Training Score 0.6656979939424308\n",
      "Testing Score 0.4873804660685934\n",
      "MAE: 184134.62741852948\n",
      "MSE: 190419028869.71658\n",
      "RMSE: 436370.28871099435\n"
     ]
    },
    {
     "data": {
      "text/plain": [
       "48.73804660685934"
      ]
     },
     "execution_count": 54,
     "metadata": {},
     "output_type": "execute_result"
    }
   ],
   "source": [
    "# Create the GradientBoosting Regression Model\n",
    "gbr = GradientBoostingRegressor()\n",
    "gbr.fit(x_train,y_train)\n",
    "\n",
    "# Compute Training and Testing score\n",
    "mscore(gbr)\n",
    "\n",
    "# Generating Prediction\n",
    "ypred_gbr = gbr.predict(x_test)\n",
    "ypred_gbr\n",
    "\n",
    "# Evaluating the model \n",
    "reg_eval_metrics(y_test,ypred_gbr)\n",
    "\n",
    "# Evaluating Model : R2 score\n",
    "r2_gbr = r2_score(y_test,ypred_gbr)*100\n",
    "r2_gbr"
   ]
  },
  {
   "cell_type": "markdown",
   "id": "6694cdb6",
   "metadata": {},
   "source": [
    "#### 6)Ridge "
   ]
  },
  {
   "cell_type": "code",
   "execution_count": 55,
   "id": "638b63cd",
   "metadata": {},
   "outputs": [
    {
     "name": "stdout",
     "output_type": "stream",
     "text": [
      "Training Score 0.43627054092427364\n",
      "Testing Score 0.3969804024696515\n",
      "MAE: 220124.47432539557\n",
      "MSE: 223999279291.0252\n",
      "RMSE: 473285.62125953624\n"
     ]
    },
    {
     "data": {
      "text/plain": [
       "39.69804024696515"
      ]
     },
     "execution_count": 55,
     "metadata": {},
     "output_type": "execute_result"
    }
   ],
   "source": [
    "# Create the Ridge Regression Model\n",
    "ridge = Ridge(alpha=10)\n",
    "ridge.fit(x_train,y_train)\n",
    "\n",
    "# Compute Training and Testing score\n",
    "mscore(ridge)\n",
    "\n",
    "# Generating Prediction\n",
    "ypred_ridge = ridge.predict(x_test)\n",
    "ypred_ridge\n",
    "\n",
    "# Evaluating the model \n",
    "reg_eval_metrics(y_test,ypred_ridge)\n",
    "\n",
    "# Evaluating Model : R2 score\n",
    "r2_ridge = r2_score(y_test,ypred_ridge)*100\n",
    "r2_ridge"
   ]
  },
  {
   "cell_type": "markdown",
   "id": "14ddfb9e",
   "metadata": {},
   "source": [
    "#### 7)Lasso "
   ]
  },
  {
   "cell_type": "code",
   "execution_count": 56,
   "id": "f27474fe",
   "metadata": {},
   "outputs": [
    {
     "name": "stdout",
     "output_type": "stream",
     "text": [
      "Training Score 0.4366509063809708\n",
      "Testing Score 0.4011678116596855\n",
      "MAE: 220363.96770662168\n",
      "MSE: 222443813026.73514\n",
      "RMSE: 471639.4947698243\n"
     ]
    },
    {
     "data": {
      "text/plain": [
       "40.116781165968554"
      ]
     },
     "execution_count": 56,
     "metadata": {},
     "output_type": "execute_result"
    }
   ],
   "source": [
    "# Create the Lasso Regression Model\n",
    "lasso = Lasso(alpha=0.1)\n",
    "lasso.fit(x_train,y_train)\n",
    "\n",
    "# Compute Training and Testing score\n",
    "mscore(lasso)\n",
    "\n",
    "# Generating Prediction\n",
    "ypred_lasso = lasso.predict(x_test)\n",
    "ypred_lasso\n",
    "\n",
    "# Evaluating the model \n",
    "reg_eval_metrics(y_test,ypred_lasso)\n",
    "\n",
    "# Evaluating Model : R2 score\n",
    "r2_lasso = r2_score(y_test,ypred_lasso)*100\n",
    "r2_lasso"
   ]
  },
  {
   "cell_type": "markdown",
   "id": "381282be",
   "metadata": {},
   "source": [
    "#### 8)XGBoost"
   ]
  },
  {
   "cell_type": "code",
   "execution_count": 57,
   "id": "7f86dbc6",
   "metadata": {},
   "outputs": [
    {
     "name": "stdout",
     "output_type": "stream",
     "text": [
      "Training Score 0.8988343542610704\n",
      "Testing Score 0.35322857669665775\n",
      "MAE: 201221.7846655137\n",
      "MSE: 240251450001.48685\n",
      "RMSE: 490154.516455257\n"
     ]
    },
    {
     "data": {
      "text/plain": [
       "35.32285766966577"
      ]
     },
     "execution_count": 57,
     "metadata": {},
     "output_type": "execute_result"
    }
   ],
   "source": [
    "# Create the XGBoost Regression Model\n",
    "xgb = XGBRegressor()\n",
    "xgb.fit(x_train,y_train)\n",
    "\n",
    "# Compute Training and Testing score\n",
    "mscore(xgb)\n",
    "\n",
    "# Generating Prediction\n",
    "ypred_xgb = xgb.predict(x_test)\n",
    "ypred_xgb\n",
    "\n",
    "# Evaluating the model \n",
    "reg_eval_metrics(y_test,ypred_xgb)\n",
    "\n",
    "# Evaluating Model : R2 score\n",
    "r2_xgb = r2_score(y_test,ypred_xgb)*100\n",
    "r2_xgb"
   ]
  },
  {
   "cell_type": "markdown",
   "id": "a3f19af7",
   "metadata": {},
   "source": [
    "#### 9)Ada_Boost"
   ]
  },
  {
   "cell_type": "code",
   "execution_count": 58,
   "id": "e075cba0",
   "metadata": {},
   "outputs": [
    {
     "name": "stdout",
     "output_type": "stream",
     "text": [
      "Training Score 0.44567606690243644\n",
      "Testing Score 0.37952592382717765\n",
      "MAE: 230065.00798172894\n",
      "MSE: 230482966806.86578\n",
      "RMSE: 480086.41597827553\n"
     ]
    },
    {
     "data": {
      "text/plain": [
       "37.95259238271777"
      ]
     },
     "execution_count": 58,
     "metadata": {},
     "output_type": "execute_result"
    }
   ],
   "source": [
    "# Create the AdaBoost Regression Model\n",
    "adab = AdaBoostRegressor()\n",
    "adab.fit(x_train,y_train)\n",
    "\n",
    "# Compute Training and Testing score\n",
    "mscore(adab)\n",
    "\n",
    "# Generating Prediction\n",
    "ypred_adab = adab.predict(x_test)\n",
    "ypred_adab\n",
    "\n",
    "# Evaluating the model \n",
    "reg_eval_metrics(y_test,ypred_adab)\n",
    "\n",
    "# Evaluating Model : R2 score\n",
    "r2_adab = r2_score(y_test,ypred_adab)*100\n",
    "r2_adab"
   ]
  },
  {
   "cell_type": "markdown",
   "id": "e384d723",
   "metadata": {},
   "source": [
    "### <u>Comparing Different Regression Models"
   ]
  },
  {
   "cell_type": "code",
   "execution_count": 59,
   "id": "82f91e3a",
   "metadata": {},
   "outputs": [
    {
     "data": {
      "text/html": [
       "<div>\n",
       "<style scoped>\n",
       "    .dataframe tbody tr th:only-of-type {\n",
       "        vertical-align: middle;\n",
       "    }\n",
       "\n",
       "    .dataframe tbody tr th {\n",
       "        vertical-align: top;\n",
       "    }\n",
       "\n",
       "    .dataframe thead th {\n",
       "        text-align: right;\n",
       "    }\n",
       "</style>\n",
       "<table border=\"1\" class=\"dataframe\">\n",
       "  <thead>\n",
       "    <tr style=\"text-align: right;\">\n",
       "      <th></th>\n",
       "      <th>Model</th>\n",
       "      <th>Score</th>\n",
       "    </tr>\n",
       "  </thead>\n",
       "  <tbody>\n",
       "    <tr>\n",
       "      <th>0</th>\n",
       "      <td>Linear Regression</td>\n",
       "      <td>40.116798</td>\n",
       "    </tr>\n",
       "    <tr>\n",
       "      <th>1</th>\n",
       "      <td>Ridge Regression</td>\n",
       "      <td>39.698040</td>\n",
       "    </tr>\n",
       "    <tr>\n",
       "      <th>2</th>\n",
       "      <td>Lasso Regression</td>\n",
       "      <td>40.116781</td>\n",
       "    </tr>\n",
       "    <tr>\n",
       "      <th>3</th>\n",
       "      <td>RandomForest Regressor</td>\n",
       "      <td>44.668767</td>\n",
       "    </tr>\n",
       "    <tr>\n",
       "      <th>4</th>\n",
       "      <td>KNeighbors Regressor</td>\n",
       "      <td>12.642399</td>\n",
       "    </tr>\n",
       "    <tr>\n",
       "      <th>5</th>\n",
       "      <td>DecisionTree Regressor</td>\n",
       "      <td>29.990285</td>\n",
       "    </tr>\n",
       "    <tr>\n",
       "      <th>6</th>\n",
       "      <td>GradientBoosting Regressor</td>\n",
       "      <td>48.738047</td>\n",
       "    </tr>\n",
       "    <tr>\n",
       "      <th>7</th>\n",
       "      <td>AdaBoost Regressor</td>\n",
       "      <td>37.952592</td>\n",
       "    </tr>\n",
       "    <tr>\n",
       "      <th>8</th>\n",
       "      <td>XGBoost Regressor</td>\n",
       "      <td>35.322858</td>\n",
       "    </tr>\n",
       "  </tbody>\n",
       "</table>\n",
       "</div>"
      ],
      "text/plain": [
       "                        Model      Score\n",
       "0           Linear Regression  40.116798\n",
       "1            Ridge Regression  39.698040\n",
       "2            Lasso Regression  40.116781\n",
       "3      RandomForest Regressor  44.668767\n",
       "4        KNeighbors Regressor  12.642399\n",
       "5      DecisionTree Regressor  29.990285\n",
       "6  GradientBoosting Regressor  48.738047\n",
       "7          AdaBoost Regressor  37.952592\n",
       "8           XGBoost Regressor  35.322858"
      ]
     },
     "execution_count": 59,
     "metadata": {},
     "output_type": "execute_result"
    }
   ],
   "source": [
    "# Creating a dataframe showing R2_score of each model\n",
    "Model = pd.DataFrame({\n",
    "    'Model': ['Linear Regression','Ridge Regression','Lasso Regression','RandomForest Regressor','KNeighbors Regressor','DecisionTree Regressor','GradientBoosting Regressor','AdaBoost Regressor','XGBoost Regressor'],\n",
    "    'Score': [r2_lr,r2_ridge,r2_lasso,r2_rf,r2_knn,r2_dt,r2_gbr,r2_adab,r2_xgb]})\n",
    "\n",
    "Model"
   ]
  },
  {
   "cell_type": "code",
   "execution_count": 60,
   "id": "2ba94e60",
   "metadata": {},
   "outputs": [
    {
     "data": {
      "text/html": [
       "<div>\n",
       "<style scoped>\n",
       "    .dataframe tbody tr th:only-of-type {\n",
       "        vertical-align: middle;\n",
       "    }\n",
       "\n",
       "    .dataframe tbody tr th {\n",
       "        vertical-align: top;\n",
       "    }\n",
       "\n",
       "    .dataframe thead th {\n",
       "        text-align: right;\n",
       "    }\n",
       "</style>\n",
       "<table border=\"1\" class=\"dataframe\">\n",
       "  <thead>\n",
       "    <tr style=\"text-align: right;\">\n",
       "      <th></th>\n",
       "      <th>0</th>\n",
       "      <th>1</th>\n",
       "      <th>2</th>\n",
       "      <th>3</th>\n",
       "      <th>4</th>\n",
       "      <th>5</th>\n",
       "      <th>6</th>\n",
       "      <th>7</th>\n",
       "      <th>8</th>\n",
       "    </tr>\n",
       "  </thead>\n",
       "  <tbody>\n",
       "    <tr>\n",
       "      <th>Model</th>\n",
       "      <td>Linear Regression</td>\n",
       "      <td>Ridge Regression</td>\n",
       "      <td>Lasso Regression</td>\n",
       "      <td>RandomForest Regressor</td>\n",
       "      <td>KNeighbors Regressor</td>\n",
       "      <td>DecisionTree Regressor</td>\n",
       "      <td>GradientBoosting Regressor</td>\n",
       "      <td>AdaBoost Regressor</td>\n",
       "      <td>XGBoost Regressor</td>\n",
       "    </tr>\n",
       "    <tr>\n",
       "      <th>Score</th>\n",
       "      <td>40.116798</td>\n",
       "      <td>39.69804</td>\n",
       "      <td>40.116781</td>\n",
       "      <td>44.668767</td>\n",
       "      <td>12.642399</td>\n",
       "      <td>29.990285</td>\n",
       "      <td>48.738047</td>\n",
       "      <td>37.952592</td>\n",
       "      <td>35.322858</td>\n",
       "    </tr>\n",
       "  </tbody>\n",
       "</table>\n",
       "</div>"
      ],
      "text/plain": [
       "                       0                 1                 2  \\\n",
       "Model  Linear Regression  Ridge Regression  Lasso Regression   \n",
       "Score          40.116798          39.69804         40.116781   \n",
       "\n",
       "                            3                     4                       5  \\\n",
       "Model  RandomForest Regressor  KNeighbors Regressor  DecisionTree Regressor   \n",
       "Score               44.668767             12.642399               29.990285   \n",
       "\n",
       "                                6                   7                  8  \n",
       "Model  GradientBoosting Regressor  AdaBoost Regressor  XGBoost Regressor  \n",
       "Score                   48.738047           37.952592          35.322858  "
      ]
     },
     "execution_count": 60,
     "metadata": {},
     "output_type": "execute_result"
    }
   ],
   "source": [
    "model_performance = pd.DataFrame(Model)\n",
    "model_performance.T"
   ]
  },
  {
   "cell_type": "markdown",
   "id": "00692f11",
   "metadata": {},
   "source": [
    "#### Inference :-\n",
    "Based on the R2Score the best model is Gradient Boosting Regressor"
   ]
  },
  {
   "cell_type": "code",
   "execution_count": 61,
   "id": "7ea37a7f",
   "metadata": {},
   "outputs": [
    {
     "name": "stdout",
     "output_type": "stream",
     "text": [
      "(2682, 6)\n",
      "(895, 6)\n",
      "(3577, 6)\n",
      "(3577,)\n"
     ]
    }
   ],
   "source": [
    "print(x_train.shape)\n",
    "print(x_test.shape)\n",
    "print(x.shape)\n",
    "print(y.shape)"
   ]
  },
  {
   "cell_type": "code",
   "execution_count": 62,
   "id": "dbe6802e",
   "metadata": {},
   "outputs": [
    {
     "data": {
      "text/html": [
       "<style>#sk-container-id-1 {color: black;background-color: white;}#sk-container-id-1 pre{padding: 0;}#sk-container-id-1 div.sk-toggleable {background-color: white;}#sk-container-id-1 label.sk-toggleable__label {cursor: pointer;display: block;width: 100%;margin-bottom: 0;padding: 0.3em;box-sizing: border-box;text-align: center;}#sk-container-id-1 label.sk-toggleable__label-arrow:before {content: \"▸\";float: left;margin-right: 0.25em;color: #696969;}#sk-container-id-1 label.sk-toggleable__label-arrow:hover:before {color: black;}#sk-container-id-1 div.sk-estimator:hover label.sk-toggleable__label-arrow:before {color: black;}#sk-container-id-1 div.sk-toggleable__content {max-height: 0;max-width: 0;overflow: hidden;text-align: left;background-color: #f0f8ff;}#sk-container-id-1 div.sk-toggleable__content pre {margin: 0.2em;color: black;border-radius: 0.25em;background-color: #f0f8ff;}#sk-container-id-1 input.sk-toggleable__control:checked~div.sk-toggleable__content {max-height: 200px;max-width: 100%;overflow: auto;}#sk-container-id-1 input.sk-toggleable__control:checked~label.sk-toggleable__label-arrow:before {content: \"▾\";}#sk-container-id-1 div.sk-estimator input.sk-toggleable__control:checked~label.sk-toggleable__label {background-color: #d4ebff;}#sk-container-id-1 div.sk-label input.sk-toggleable__control:checked~label.sk-toggleable__label {background-color: #d4ebff;}#sk-container-id-1 input.sk-hidden--visually {border: 0;clip: rect(1px 1px 1px 1px);clip: rect(1px, 1px, 1px, 1px);height: 1px;margin: -1px;overflow: hidden;padding: 0;position: absolute;width: 1px;}#sk-container-id-1 div.sk-estimator {font-family: monospace;background-color: #f0f8ff;border: 1px dotted black;border-radius: 0.25em;box-sizing: border-box;margin-bottom: 0.5em;}#sk-container-id-1 div.sk-estimator:hover {background-color: #d4ebff;}#sk-container-id-1 div.sk-parallel-item::after {content: \"\";width: 100%;border-bottom: 1px solid gray;flex-grow: 1;}#sk-container-id-1 div.sk-label:hover label.sk-toggleable__label {background-color: #d4ebff;}#sk-container-id-1 div.sk-serial::before {content: \"\";position: absolute;border-left: 1px solid gray;box-sizing: border-box;top: 0;bottom: 0;left: 50%;z-index: 0;}#sk-container-id-1 div.sk-serial {display: flex;flex-direction: column;align-items: center;background-color: white;padding-right: 0.2em;padding-left: 0.2em;position: relative;}#sk-container-id-1 div.sk-item {position: relative;z-index: 1;}#sk-container-id-1 div.sk-parallel {display: flex;align-items: stretch;justify-content: center;background-color: white;position: relative;}#sk-container-id-1 div.sk-item::before, #sk-container-id-1 div.sk-parallel-item::before {content: \"\";position: absolute;border-left: 1px solid gray;box-sizing: border-box;top: 0;bottom: 0;left: 50%;z-index: -1;}#sk-container-id-1 div.sk-parallel-item {display: flex;flex-direction: column;z-index: 1;position: relative;background-color: white;}#sk-container-id-1 div.sk-parallel-item:first-child::after {align-self: flex-end;width: 50%;}#sk-container-id-1 div.sk-parallel-item:last-child::after {align-self: flex-start;width: 50%;}#sk-container-id-1 div.sk-parallel-item:only-child::after {width: 0;}#sk-container-id-1 div.sk-dashed-wrapped {border: 1px dashed gray;margin: 0 0.4em 0.5em 0.4em;box-sizing: border-box;padding-bottom: 0.4em;background-color: white;}#sk-container-id-1 div.sk-label label {font-family: monospace;font-weight: bold;display: inline-block;line-height: 1.2em;}#sk-container-id-1 div.sk-label-container {text-align: center;}#sk-container-id-1 div.sk-container {/* jupyter's `normalize.less` sets `[hidden] { display: none; }` but bootstrap.min.css set `[hidden] { display: none !important; }` so we also need the `!important` here to be able to override the default hidden behavior on the sphinx rendered scikit-learn.org. See: https://github.com/scikit-learn/scikit-learn/issues/21755 */display: inline-block !important;position: relative;}#sk-container-id-1 div.sk-text-repr-fallback {display: none;}</style><div id=\"sk-container-id-1\" class=\"sk-top-container\"><div class=\"sk-text-repr-fallback\"><pre>GradientBoostingRegressor(n_estimators=80)</pre><b>In a Jupyter environment, please rerun this cell to show the HTML representation or trust the notebook. <br />On GitHub, the HTML representation is unable to render, please try loading this page with nbviewer.org.</b></div><div class=\"sk-container\" hidden><div class=\"sk-item\"><div class=\"sk-estimator sk-toggleable\"><input class=\"sk-toggleable__control sk-hidden--visually\" id=\"sk-estimator-id-1\" type=\"checkbox\" checked><label for=\"sk-estimator-id-1\" class=\"sk-toggleable__label sk-toggleable__label-arrow\">GradientBoostingRegressor</label><div class=\"sk-toggleable__content\"><pre>GradientBoostingRegressor(n_estimators=80)</pre></div></div></div></div></div>"
      ],
      "text/plain": [
       "GradientBoostingRegressor(n_estimators=80)"
      ]
     },
     "execution_count": 62,
     "metadata": {},
     "output_type": "execute_result"
    }
   ],
   "source": [
    "model = GradientBoostingRegressor(n_estimators=80)\n",
    "model.fit(x,y)"
   ]
  },
  {
   "cell_type": "code",
   "execution_count": 63,
   "id": "2b75d212",
   "metadata": {},
   "outputs": [
    {
     "name": "stdout",
     "output_type": "stream",
     "text": [
      "[ 381737.36635199  539891.63715289  725372.55650501  500439.69407273\n",
      "  675598.28856815  396542.13644499  205159.67865721  145327.70219328\n",
      "  300094.98738502  118557.49062744  536421.71346634  432611.34733349\n",
      "  238646.89234822  566589.67978435  160188.61284447  242578.84321184\n",
      "  350638.96265552  392936.30557519  407579.11103431 3362168.67417141\n",
      "  519113.78912808   43645.53412521  106854.27860617  207367.05041261\n",
      "  274118.42050768  346195.14263663  242578.84321184 1815616.38229063\n",
      "   77936.9536762   850173.95123473  532511.76516958  350294.7216625\n",
      "  656122.0864919   420606.36947596  277837.38916765  293056.88209948\n",
      "   90619.74302504  508789.34604976  304255.82132268  326175.09252318\n",
      "  849155.36975735  199961.37912228  855472.47887171  490646.35631492\n",
      "  651001.54334765   90619.74302504  724992.4033994  4113495.12659276\n",
      "  622852.1934439   225589.66574483  536421.71346634  501486.8652557\n",
      "  799911.92319536  326175.09252318  361425.65737386  864455.28287882\n",
      "  656122.0864919   131065.00105661  174319.11877107  539891.63715289\n",
      "  427004.82002157  502169.43681537  554411.13346798  719145.60926548\n",
      "  239395.67628131  843800.62114754  783605.77745788  651001.54334765\n",
      "   93542.82447818  791156.48312992  488789.21745416  282821.70696664\n",
      "  346404.46284734  428023.76218018  313904.10894097  400199.23905101\n",
      "  586337.58615239  472422.02779595  463278.8994086   490646.35631492\n",
      "  329004.39667063  321309.7802313   293056.88209948  271747.14710207\n",
      "  740426.29609083  804137.17184253  326175.09252318  110863.98586046\n",
      "  324445.01742519  570004.09200366  500439.69407273  110786.22946978\n",
      "  350638.96265552  264790.23447315  248234.50128835  350638.96265552\n",
      "  201284.51184499  932698.63166409  430861.33411968  953474.1746356\n",
      "  253922.97352547  679823.53721532  373910.03000706  165844.27092099\n",
      "  511522.39908324 1756113.34881146  329975.33808801  387529.52761071\n",
      "  290124.1877607   376480.70733784  269191.82660544  501486.8652557\n",
      "  179376.96670826  160188.61284447  435586.91479321  525248.83169376\n",
      "  369100.83535454  125486.44955162  326175.09252318  270752.95566569\n",
      "  140678.04410233  267815.19623846  651001.54334765 1176326.26704829\n",
      "  304255.82132268  733307.10809529  207127.10510711  736270.38690201\n",
      "  434333.14928041  182747.49663871  757808.41524499  313904.10894097\n",
      "  487098.36451797  367368.29327025  821410.46591932  740495.63554918\n",
      "  403336.83297863  658632.32176757  321309.7802313   380611.428398\n",
      "  527391.22202533  425461.52804956  248234.50128835  219667.38953801\n",
      "  285841.02884289  386129.5481569  2577649.10385075  110479.93882344\n",
      "  508789.34604976  277837.38916765  444478.85558246  651001.54334765\n",
      "  350638.96265552   96275.40110156 1906381.07954167  395078.69590675\n",
      "  123762.52026255  207367.05041261  157799.57368997  133272.37281201\n",
      "  277837.38916765  179376.96670826  313475.46429548  380611.428398\n",
      "  670625.22223111  266499.76701371 1103168.75276593  350638.96265552\n",
      "  127694.47112617  427004.82002157  855368.53010529  554411.13346798\n",
      "  257293.50345592  228503.10505934  487098.36451797  395078.69590675\n",
      "   92095.92958068  472422.02779595  513968.29328147  488691.8851984\n",
      "  110863.98586046  160188.61284447  403336.83297863  348496.57232395\n",
      "  216805.51504562 1896254.8017296   428441.46074302  280185.37076638\n",
      "  395078.69590675  449776.76878998  277837.38916765   86687.79216143\n",
      "  804137.17184253   92981.40354501  238646.89234822  490646.35631492\n",
      "  395078.69590675  199961.37912228  270431.71787732  242779.45314244\n",
      "  123762.52026255  291670.23244914  484247.90576931  584014.44657975\n",
      "  857193.13236881  490646.35631492  291391.70092606  500439.69407273\n",
      "  472422.02779595  651001.54334765  361425.65737386  271747.14710207\n",
      "  391202.5016262   110863.98586046   90619.74302504   90619.74302504\n",
      "  391167.15966817  400199.23905101  268329.16922337  387009.87894361\n",
      "  350638.96265552  140678.04410233  377805.41548837  888368.08302599\n",
      "  527459.60551538  526920.43570195  484955.9741864   319846.74483737\n",
      "  173302.62551308  126355.53903552  309353.67465662  192360.53968442\n",
      "  740495.63554918  804137.17184253  339451.52815337  199961.37912228\n",
      "  738772.57110923  812024.26618474  342889.05037218  208877.11832092\n",
      "  656122.0864919   252181.50056368  511886.59306721  350294.7216625\n",
      "  379594.97602042  131065.00105661  500439.69407273 2271798.01281253\n",
      "   96913.35440863   99120.72616402  179376.96670826  270431.71787732\n",
      "  319846.74483737  355671.21534839  305215.53052927  438527.90052202\n",
      "  849155.36975735  197754.00736689  500439.69407273  814598.37552569\n",
      "  193822.05650327  666583.29017506  346404.46284734  804137.17184253\n",
      "  532511.76516958   93542.82447818  432611.34733349  969438.31935281\n",
      "  427004.82002157  104319.02569895  182265.4562134   709711.85997157\n",
      "  379594.97602042  193822.05650327  506231.85533145  707225.74250118\n",
      "  354009.49258596  369100.83535454  855553.82030296  395078.69590675\n",
      " 2814787.33053877 1675317.99686105  506231.85533145  192360.53968442\n",
      "  628655.89707348  342329.88579362  512940.10920029  342211.84016476\n",
      "  159627.1919113   160188.61284447  305215.53052927  305215.53052927\n",
      "  400199.23905101  534839.47749868  711749.98989974  314056.8201655\n",
      "  216365.72791278   90619.74302504  346195.14263663  427004.82002157\n",
      "  525709.59230157  217496.88094355  108578.85771439  799911.92319536\n",
      "  179376.96670826  192360.53968442  182747.49663871   99120.72616402\n",
      "  849155.36975735  869628.30629943  527391.22202533  321051.66851031\n",
      "  744157.48124421  321309.7802313   220737.46590923 1899982.62899606\n",
      "  371196.78159596  425461.52804956  430861.33411968  381737.36635199\n",
      "  799911.92319536  656122.0864919   288628.96342966 1019448.80542105\n",
      "  427004.82002157  400199.23905101  571756.16949275 1924417.32144795\n",
      "  306398.21165424  793732.05526995  201576.29584314  361837.90187872\n",
      "  193822.05650327  925232.07998131  511886.59306721   93542.82447818\n",
      " 1839642.98049758  234553.91154641 1836149.41314431  438527.90052202\n",
      "  651001.54334765  791912.2840096   242578.84321184  427004.82002157\n",
      "  600769.40903087  489408.42795106  956878.07470405  505560.23721699\n",
      "  490646.35631492  472422.02779595  490468.89444841  990201.95015459\n",
      "  241603.0480367   179376.96670826  335813.38961915  387009.87894361\n",
      "  363980.29221028  271438.93862204  849155.36975735  159627.1919113\n",
      "  242257.60542347  487098.36451797  276408.61374221  914428.92817342\n",
      "  395078.69590675  226778.31620088  184954.8683941   127694.47112617\n",
      "  804137.17184253  380611.428398    271438.93862204  502169.43681537\n",
      "  163701.88058942  472422.02779595  619481.66351346  736270.38690201\n",
      "  371347.44986522  408250.11569591  899272.02179975  342211.84016476\n",
      "  234553.91154641  925232.07998131  656122.0864919   313772.40364219\n",
      "  293056.88209948  143572.52484013  501486.8652557   357742.39735322\n",
      "  412255.61410393  821370.74256785  200039.13551296  104319.02569895\n",
      "  249663.27671379  290914.49176791  527391.22202533  727514.94683657\n",
      "  849155.36975735  226778.31620088  406829.65474301  276408.61374221\n",
      "  326175.09252318  501486.8652557   968116.4712682  1596527.92433942\n",
      "  428023.76218018  205394.5124237   315914.79397375  423337.29713581\n",
      "  619481.66351346  395078.69590675  277837.38916765  310249.49745013\n",
      "  106526.39745435  380611.428398    651001.54334765  423337.29713581\n",
      "  222000.63539152  361837.90187872  990201.95015459  585838.40708985\n",
      "  928687.89323629  380509.9474228   448245.05677386  194383.47743644\n",
      "  498297.30374116  581428.15237585  619481.66351346  163704.74285191\n",
      "  487098.36451797  401586.81976482  500439.69407273  651001.54334765\n",
      "  185198.15055218  138470.67234694  925232.07998131  750956.83923234\n",
      " 1923127.31907444  341143.95348495  465781.28286581  286753.65783025\n",
      "  312191.25195513  154484.97715487  304255.82132268  380611.428398\n",
      " 1065527.24622474  310249.49745013   96275.40110156  804137.17184253\n",
      "  849155.36975735  348496.57232395  651001.54334765  120699.880959\n",
      " 1865425.6347644   310249.49745013  804137.17184253  319846.74483737\n",
      "  727514.94683657  511886.59306721  342211.84016476  425461.52804956\n",
      "  527391.22202533  266244.79496699  925232.07998131  536421.71346634\n",
      "  192053.18286894  675598.28856815  293653.14668781  236697.68488714\n",
      "  793551.59607546  133272.37281201   96913.35440863  277803.00876186\n",
      " 1821797.88668508  430861.33411968 1053011.37593881  641606.96965024\n",
      "  428023.76218018  656122.0864919   207367.05041261  656122.0864919\n",
      " 1724394.14196156  536421.71346634  512940.10920029  925232.07998131\n",
      "  107723.34039526  170964.81406524 1604028.86682192  675598.28856815\n",
      "  366290.35564337  763227.11845286  217060.01572946  807799.01753757\n",
      " 1280927.9148217   785513.833464    814598.37552569  656122.0864919\n",
      "  221428.83180717 1590428.44891341  915514.92372947  270431.71787732\n",
      "  274118.42050768  501486.8652557   226864.84566636  304255.82132268\n",
      "  276408.61374221  400870.85716547  489408.42795106  120699.880959\n",
      "  407539.40080956  767175.40211857  203349.10624719  490646.35631492\n",
      "  293056.88209948  158501.29483772  482906.45498506  145624.98510018\n",
      " 1116028.36865749  539891.63715289  188121.23200532  502169.43681537\n",
      "  321309.7802313   238646.89234822  380611.428398   2921856.55741655\n",
      "  554411.13346798  933269.84259278  258083.80746313  651001.54334765\n",
      "  219190.86601819  214811.76164863  380509.9474228  2791885.34840218\n",
      "  131207.73887112  342211.84016476  144146.10755649 1831924.16449714\n",
      "  849155.36975735  365148.45495369  990201.95015459  554411.13346798\n",
      "  814521.67719207  505418.81611931  361837.90187872  124070.41088945\n",
      "  350638.96265552  400199.23905101  380611.428398    380611.428398\n",
      "  554578.08948321  511886.59306721   96275.40110156  536421.71346634\n",
      "  500439.69407273  560690.92617681  402767.30985765  484247.90576931\n",
      "  321309.7802313   148765.97304338 1927080.84789838  561967.35549831\n",
      "  321309.7802313   471709.21795906  520372.9102864   177234.57637669\n",
      "  536421.71346634  869628.30629943  505560.23721699  312191.25195513\n",
      "  651001.54334765  346404.46284734  758843.93357454  463128.23113934\n",
      "  324469.40845359  200039.13551296  175445.01584464  350294.7216625\n",
      "  385107.89628244  286753.65783025  605488.96495567  364948.99931961\n",
      "  120699.880959    799911.92319536  275907.98103973   90619.74302504\n",
      "  500439.69407273  402977.27287639  295205.80771159  118557.49062744\n",
      "  371196.78159596  182747.49663871  500439.69407273  332117.72841958\n",
      "  131065.00105661  804137.17184253  211084.49007631  381737.36635199\n",
      "  190153.16792903  124213.14870395  925232.07998131  500439.69407273\n",
      "  536421.71346634  308263.14219777  160188.61284447  401586.81976482\n",
      "  651001.54334765  350638.96265552  843800.62114754  509167.55651157\n",
      "  430861.33411968  597558.65623746  123762.52026255  363980.29221028\n",
      "  207367.05041261  361837.90187872  487098.36451797  525248.83169376\n",
      "  123762.52026255  276408.61374221  133350.12920268  391202.5016262\n",
      "  385107.89628244  342211.84016476  309353.67465662  285088.47665684\n",
      "  115984.52900472  329975.33808801  350638.96265552  736270.38690201\n",
      "  552661.12025417  658279.60608963  565462.044372    342550.01698359\n",
      "  275907.98103973  363980.29221028  621701.8902998   895172.85085671\n",
      "  502065.6553571   500439.69407273  915514.92372947  200376.90477428\n",
      "   92265.69384727  346404.46284734  707225.74250118  821370.74256785\n",
      " 1923127.31907444  387009.87894361  354237.80257524  790004.22800349\n",
      "  532511.76516958  133272.37281201 1708035.79850091  309462.89772541\n",
      "  275907.98103973  933269.84259278  120699.880959    342211.84016476\n",
      "   90619.74302504  342211.84016476  189130.1014158   487098.36451797\n",
      "  387009.87894361  344564.62146034  160188.61284447  158046.22251291\n",
      "  238646.89234822  744157.48124421  346707.0117919   973186.54743913\n",
      "  192053.18286894   96275.40110156  930185.1918687   120699.880959\n",
      "  395078.69590675  287591.0420567   634184.74223319  791156.48312992\n",
      "  361425.65737386  669213.66472538  309353.67465662 1010653.37987562\n",
      "  185198.15055218  463128.23113934  740495.63554918  257293.50345592\n",
      "  342211.84016476  750956.83923234  101395.94424581  484506.12114841\n",
      "  453915.74834012  403336.83297863  388245.49021006  282821.70696664\n",
      "  160188.61284447  283899.27433789  526769.76743269  270752.95566569\n",
      "  293056.88209948  814598.37552569  482906.45498506  342889.05037218\n",
      "  496316.47517971  381737.36635199  276493.60304756  363980.29221028\n",
      "   90619.74302504  795054.28932556  234197.37674638  160188.61284447\n",
      "  506231.85533145 1264624.64312403  946751.79689199  165844.27092099\n",
      "  381737.36635199  326175.09252318  427004.82002157  430861.33411968\n",
      "  814598.37552569  492890.52577668  319846.74483737  530688.71434815\n",
      "  922901.57759979  392936.30557519  380611.428398    387009.87894361\n",
      "   97101.33143237  350294.7216625   267815.19623846 1675317.99686105\n",
      "  656122.0864919   371196.78159596  352949.02608861  502169.43681537\n",
      "  175445.01584464  381737.36635199  925485.73134823  361837.90187872\n",
      "  127766.63420664  387009.87894361  160188.61284447  641001.62474128\n",
      "  282821.70696664  527391.22202533  298847.72718376  216983.4942628\n",
      "  400199.23905101 1612610.14829483  532511.76516958  582855.48832677\n",
      " 1935655.03455376  562183.55576228  363452.07691705  277837.38916765\n",
      "  884548.77140518  527391.22202533  242578.84321184  430861.33411968\n",
      "  177234.57637669  381737.36635199  156256.66198085  740495.63554918\n",
      "  350638.96265552  804137.17184253  126354.888185    400199.23905101\n",
      "  427004.82002157  711794.86457092  381737.36635199  238325.65455985\n",
      "  525709.59230157  291670.23244914  118191.90076011  103065.93745238\n",
      "  532511.76516958  253922.97352547  271425.1370179   387009.87894361\n",
      "  174701.54566374  551815.2565906   491153.92956887  160188.61284447\n",
      "  344564.62146034  310623.25575765  502169.43681537  519352.02374988\n",
      "  342211.84016476  512368.26274681  220737.46590923  120699.880959\n",
      "  342211.84016476  378489.78450846  490646.35631492  131207.73887112\n",
      "  248234.50128835  727514.94683657   93542.82447818  408250.11569591\n",
      "  266499.76701371  342211.84016476  403336.83297863  567370.24699653\n",
      "  400199.23905101   93542.82447818  326175.09252318 1584922.80370895\n",
      "  319846.74483737  727514.94683657  381737.36635199  184695.26632109\n",
      " 1141955.7704133   305011.56200391  481024.02332279  520521.98515635\n",
      " 1538651.72926295  707225.74250118  484247.90576931  527391.22202533\n",
      "  321309.7802313   108578.85771439  185032.62478477  417520.00456491\n",
      "  666583.29017506  363980.29221028 1584922.80370895  530207.54047849\n",
      "  284872.22684132  133350.12920268  110786.22946978  527391.22202533\n",
      "  725372.55650501  282821.70696664  427004.82002157  472422.02779595\n",
      "  283899.27433789 4898540.22365475  925232.07998131 1198127.15339919\n",
      "  651896.83784473  554330.18190891 1023294.24470049  192696.1594297\n",
      "  490646.35631492  527391.22202533  194383.47743644  249663.27671379\n",
      "  277837.38916765   86687.79216143  496659.28818585  500439.69407273\n",
      "  179376.96670826  869628.30629943  427004.82002157  378759.93420899\n",
      "  363452.07691705  466618.80916974  227732.05607639  133683.45393517\n",
      "  401420.59845182  210502.29077639  336181.57271895  648859.15301608\n",
      "  532511.76516958  363452.07691705  286753.65783025  748382.72989138\n",
      "  481024.02332279  350638.96265552  192360.53968442  532511.76516958\n",
      "  113346.75831935  607379.02387902  123762.52026255  669213.66472538\n",
      "  256294.24693108  857261.52501019  192360.53968442  500001.11836819\n",
      "  505418.81611931  843800.62114754  302022.51091023  133959.48179441\n",
      "  525248.83169376  242578.84321184  614802.13078251  342889.05037218\n",
      "  127694.47112617  826829.89494807  519852.1820298   512237.26716945\n",
      " 1678635.92305067  270752.95566569  282821.70696664  520372.9102864\n",
      "  285088.47665684  675598.28856815  758843.93357454]\n"
     ]
    }
   ],
   "source": [
    "ypred = model.predict(x_test)\n",
    "print(ypred)"
   ]
  },
  {
   "cell_type": "markdown",
   "id": "9049a6f7",
   "metadata": {},
   "source": [
    "### Save the model"
   ]
  },
  {
   "cell_type": "code",
   "execution_count": 64,
   "id": "7f313de6",
   "metadata": {},
   "outputs": [],
   "source": [
    "import pickle"
   ]
  },
  {
   "cell_type": "code",
   "execution_count": 65,
   "id": "fd9f2db8",
   "metadata": {},
   "outputs": [],
   "source": [
    "pickle.dump(model, open('car_predict.pkl', 'wb'))    # Saving the best performing model\n",
    "pickle.dump(df_car, open('data.pkl', 'wb'))                # Saving the DataFrame"
   ]
  },
  {
   "cell_type": "markdown",
   "id": "abb710a2",
   "metadata": {},
   "source": [
    "### Loading the model"
   ]
  },
  {
   "cell_type": "code",
   "execution_count": 66,
   "id": "57ed0e9f",
   "metadata": {},
   "outputs": [],
   "source": [
    "loaded_model = pickle.load(open('car_predict.pkl', 'rb'))   # rb = read binary"
   ]
  },
  {
   "cell_type": "markdown",
   "id": "83f6763a",
   "metadata": {},
   "source": [
    "### Creating a Random Dataset and Applying the saved model to predict the target column for the new dataframe."
   ]
  },
  {
   "cell_type": "code",
   "execution_count": 67,
   "id": "86fe5d28",
   "metadata": {},
   "outputs": [
    {
     "name": "stdout",
     "output_type": "stream",
     "text": [
      "(20, 9)\n"
     ]
    },
    {
     "data": {
      "text/html": [
       "<div>\n",
       "<style scoped>\n",
       "    .dataframe tbody tr th:only-of-type {\n",
       "        vertical-align: middle;\n",
       "    }\n",
       "\n",
       "    .dataframe tbody tr th {\n",
       "        vertical-align: top;\n",
       "    }\n",
       "\n",
       "    .dataframe thead th {\n",
       "        text-align: right;\n",
       "    }\n",
       "</style>\n",
       "<table border=\"1\" class=\"dataframe\">\n",
       "  <thead>\n",
       "    <tr style=\"text-align: right;\">\n",
       "      <th></th>\n",
       "      <th>name</th>\n",
       "      <th>year</th>\n",
       "      <th>selling_price</th>\n",
       "      <th>km_driven</th>\n",
       "      <th>fuel</th>\n",
       "      <th>seller_type</th>\n",
       "      <th>transmission</th>\n",
       "      <th>owner</th>\n",
       "      <th>brand</th>\n",
       "    </tr>\n",
       "  </thead>\n",
       "  <tbody>\n",
       "    <tr>\n",
       "      <th>3996</th>\n",
       "      <td>Hyundai i20 Asta 1.4 CRDi</td>\n",
       "      <td>2015</td>\n",
       "      <td>550000</td>\n",
       "      <td>87000</td>\n",
       "      <td>1</td>\n",
       "      <td>1</td>\n",
       "      <td>1</td>\n",
       "      <td>0</td>\n",
       "      <td>Hyundai</td>\n",
       "    </tr>\n",
       "    <tr>\n",
       "      <th>3138</th>\n",
       "      <td>Honda City 1.5 S MT</td>\n",
       "      <td>2009</td>\n",
       "      <td>300000</td>\n",
       "      <td>120000</td>\n",
       "      <td>4</td>\n",
       "      <td>1</td>\n",
       "      <td>1</td>\n",
       "      <td>2</td>\n",
       "      <td>Honda</td>\n",
       "    </tr>\n",
       "    <tr>\n",
       "      <th>1810</th>\n",
       "      <td>Maruti Wagon R LXI DUO BSIII</td>\n",
       "      <td>2009</td>\n",
       "      <td>155000</td>\n",
       "      <td>60000</td>\n",
       "      <td>3</td>\n",
       "      <td>1</td>\n",
       "      <td>1</td>\n",
       "      <td>2</td>\n",
       "      <td>Maruti</td>\n",
       "    </tr>\n",
       "    <tr>\n",
       "      <th>379</th>\n",
       "      <td>Hyundai Grand i10 1.2 Kappa Asta</td>\n",
       "      <td>2019</td>\n",
       "      <td>600000</td>\n",
       "      <td>10000</td>\n",
       "      <td>4</td>\n",
       "      <td>1</td>\n",
       "      <td>1</td>\n",
       "      <td>0</td>\n",
       "      <td>Hyundai</td>\n",
       "    </tr>\n",
       "    <tr>\n",
       "      <th>504</th>\n",
       "      <td>Ford Ecosport 1.5 DV5 MT Titanium</td>\n",
       "      <td>2014</td>\n",
       "      <td>750000</td>\n",
       "      <td>101504</td>\n",
       "      <td>1</td>\n",
       "      <td>0</td>\n",
       "      <td>1</td>\n",
       "      <td>0</td>\n",
       "      <td>Ford</td>\n",
       "    </tr>\n",
       "  </tbody>\n",
       "</table>\n",
       "</div>"
      ],
      "text/plain": [
       "                                   name  year  selling_price  km_driven  fuel  \\\n",
       "3996          Hyundai i20 Asta 1.4 CRDi  2015         550000      87000     1   \n",
       "3138                Honda City 1.5 S MT  2009         300000     120000     4   \n",
       "1810       Maruti Wagon R LXI DUO BSIII  2009         155000      60000     3   \n",
       "379    Hyundai Grand i10 1.2 Kappa Asta  2019         600000      10000     4   \n",
       "504   Ford Ecosport 1.5 DV5 MT Titanium  2014         750000     101504     1   \n",
       "\n",
       "      seller_type  transmission  owner    brand  \n",
       "3996            1             1      0  Hyundai  \n",
       "3138            1             1      2    Honda  \n",
       "1810            1             1      2   Maruti  \n",
       "379             1             1      0  Hyundai  \n",
       "504             0             1      0     Ford  "
      ]
     },
     "execution_count": 67,
     "metadata": {},
     "output_type": "execute_result"
    }
   ],
   "source": [
    "# Here we took the sample of random 20 Points from the Car_Details Dataset\n",
    "random = df_car.sample(20)\n",
    "print(random.shape)\n",
    "random.head()"
   ]
  },
  {
   "cell_type": "code",
   "execution_count": 68,
   "id": "8359c5ab",
   "metadata": {},
   "outputs": [
    {
     "data": {
      "text/html": [
       "<div>\n",
       "<style scoped>\n",
       "    .dataframe tbody tr th:only-of-type {\n",
       "        vertical-align: middle;\n",
       "    }\n",
       "\n",
       "    .dataframe tbody tr th {\n",
       "        vertical-align: top;\n",
       "    }\n",
       "\n",
       "    .dataframe thead th {\n",
       "        text-align: right;\n",
       "    }\n",
       "</style>\n",
       "<table border=\"1\" class=\"dataframe\">\n",
       "  <thead>\n",
       "    <tr style=\"text-align: right;\">\n",
       "      <th></th>\n",
       "      <th>name</th>\n",
       "      <th>year</th>\n",
       "      <th>km_driven</th>\n",
       "      <th>fuel</th>\n",
       "      <th>seller_type</th>\n",
       "      <th>transmission</th>\n",
       "      <th>owner</th>\n",
       "      <th>brand</th>\n",
       "    </tr>\n",
       "  </thead>\n",
       "  <tbody>\n",
       "    <tr>\n",
       "      <th>3996</th>\n",
       "      <td>Hyundai i20 Asta 1.4 CRDi</td>\n",
       "      <td>2015</td>\n",
       "      <td>87000</td>\n",
       "      <td>1</td>\n",
       "      <td>1</td>\n",
       "      <td>1</td>\n",
       "      <td>0</td>\n",
       "      <td>Hyundai</td>\n",
       "    </tr>\n",
       "    <tr>\n",
       "      <th>3138</th>\n",
       "      <td>Honda City 1.5 S MT</td>\n",
       "      <td>2009</td>\n",
       "      <td>120000</td>\n",
       "      <td>4</td>\n",
       "      <td>1</td>\n",
       "      <td>1</td>\n",
       "      <td>2</td>\n",
       "      <td>Honda</td>\n",
       "    </tr>\n",
       "    <tr>\n",
       "      <th>1810</th>\n",
       "      <td>Maruti Wagon R LXI DUO BSIII</td>\n",
       "      <td>2009</td>\n",
       "      <td>60000</td>\n",
       "      <td>3</td>\n",
       "      <td>1</td>\n",
       "      <td>1</td>\n",
       "      <td>2</td>\n",
       "      <td>Maruti</td>\n",
       "    </tr>\n",
       "    <tr>\n",
       "      <th>379</th>\n",
       "      <td>Hyundai Grand i10 1.2 Kappa Asta</td>\n",
       "      <td>2019</td>\n",
       "      <td>10000</td>\n",
       "      <td>4</td>\n",
       "      <td>1</td>\n",
       "      <td>1</td>\n",
       "      <td>0</td>\n",
       "      <td>Hyundai</td>\n",
       "    </tr>\n",
       "    <tr>\n",
       "      <th>504</th>\n",
       "      <td>Ford Ecosport 1.5 DV5 MT Titanium</td>\n",
       "      <td>2014</td>\n",
       "      <td>101504</td>\n",
       "      <td>1</td>\n",
       "      <td>0</td>\n",
       "      <td>1</td>\n",
       "      <td>0</td>\n",
       "      <td>Ford</td>\n",
       "    </tr>\n",
       "    <tr>\n",
       "      <th>1805</th>\n",
       "      <td>Ford Figo Diesel EXI</td>\n",
       "      <td>2012</td>\n",
       "      <td>28000</td>\n",
       "      <td>1</td>\n",
       "      <td>1</td>\n",
       "      <td>1</td>\n",
       "      <td>0</td>\n",
       "      <td>Ford</td>\n",
       "    </tr>\n",
       "    <tr>\n",
       "      <th>3804</th>\n",
       "      <td>Maruti Alto LXi</td>\n",
       "      <td>2007</td>\n",
       "      <td>70000</td>\n",
       "      <td>4</td>\n",
       "      <td>1</td>\n",
       "      <td>1</td>\n",
       "      <td>0</td>\n",
       "      <td>Maruti</td>\n",
       "    </tr>\n",
       "    <tr>\n",
       "      <th>146</th>\n",
       "      <td>Hyundai i20 1.2 Asta</td>\n",
       "      <td>2018</td>\n",
       "      <td>10000</td>\n",
       "      <td>4</td>\n",
       "      <td>1</td>\n",
       "      <td>1</td>\n",
       "      <td>0</td>\n",
       "      <td>Hyundai</td>\n",
       "    </tr>\n",
       "    <tr>\n",
       "      <th>437</th>\n",
       "      <td>Honda Brio S Option AT</td>\n",
       "      <td>2012</td>\n",
       "      <td>75000</td>\n",
       "      <td>4</td>\n",
       "      <td>1</td>\n",
       "      <td>0</td>\n",
       "      <td>2</td>\n",
       "      <td>Honda</td>\n",
       "    </tr>\n",
       "    <tr>\n",
       "      <th>2053</th>\n",
       "      <td>Ford Fiesta 1.4 ZXi TDCi ABS</td>\n",
       "      <td>2009</td>\n",
       "      <td>110000</td>\n",
       "      <td>1</td>\n",
       "      <td>1</td>\n",
       "      <td>1</td>\n",
       "      <td>2</td>\n",
       "      <td>Ford</td>\n",
       "    </tr>\n",
       "    <tr>\n",
       "      <th>1963</th>\n",
       "      <td>Hyundai Venue SX Opt Diesel</td>\n",
       "      <td>2020</td>\n",
       "      <td>5000</td>\n",
       "      <td>1</td>\n",
       "      <td>1</td>\n",
       "      <td>1</td>\n",
       "      <td>0</td>\n",
       "      <td>Hyundai</td>\n",
       "    </tr>\n",
       "    <tr>\n",
       "      <th>2796</th>\n",
       "      <td>Toyota Innova 2.5 Z Diesel 7 Seater BS IV</td>\n",
       "      <td>2014</td>\n",
       "      <td>173000</td>\n",
       "      <td>1</td>\n",
       "      <td>1</td>\n",
       "      <td>1</td>\n",
       "      <td>4</td>\n",
       "      <td>Toyota</td>\n",
       "    </tr>\n",
       "    <tr>\n",
       "      <th>1399</th>\n",
       "      <td>Hyundai Grand i10 1.2 CRDi Magna</td>\n",
       "      <td>2015</td>\n",
       "      <td>61658</td>\n",
       "      <td>1</td>\n",
       "      <td>0</td>\n",
       "      <td>1</td>\n",
       "      <td>0</td>\n",
       "      <td>Hyundai</td>\n",
       "    </tr>\n",
       "    <tr>\n",
       "      <th>2918</th>\n",
       "      <td>Ford Figo Aspire 1.5 TDCi Trend</td>\n",
       "      <td>2015</td>\n",
       "      <td>148620</td>\n",
       "      <td>1</td>\n",
       "      <td>0</td>\n",
       "      <td>1</td>\n",
       "      <td>0</td>\n",
       "      <td>Ford</td>\n",
       "    </tr>\n",
       "    <tr>\n",
       "      <th>2434</th>\n",
       "      <td>Honda City 1.5 S MT</td>\n",
       "      <td>2011</td>\n",
       "      <td>110000</td>\n",
       "      <td>4</td>\n",
       "      <td>1</td>\n",
       "      <td>1</td>\n",
       "      <td>0</td>\n",
       "      <td>Honda</td>\n",
       "    </tr>\n",
       "    <tr>\n",
       "      <th>3134</th>\n",
       "      <td>Chevrolet Cruze LTZ</td>\n",
       "      <td>2011</td>\n",
       "      <td>65500</td>\n",
       "      <td>1</td>\n",
       "      <td>1</td>\n",
       "      <td>1</td>\n",
       "      <td>0</td>\n",
       "      <td>Chevrolet</td>\n",
       "    </tr>\n",
       "    <tr>\n",
       "      <th>1356</th>\n",
       "      <td>Nissan Micra Diesel XV Premium</td>\n",
       "      <td>2011</td>\n",
       "      <td>90000</td>\n",
       "      <td>1</td>\n",
       "      <td>1</td>\n",
       "      <td>1</td>\n",
       "      <td>2</td>\n",
       "      <td>Nissan</td>\n",
       "    </tr>\n",
       "    <tr>\n",
       "      <th>477</th>\n",
       "      <td>Maruti Swift Ldi BSIV</td>\n",
       "      <td>2009</td>\n",
       "      <td>100000</td>\n",
       "      <td>1</td>\n",
       "      <td>1</td>\n",
       "      <td>1</td>\n",
       "      <td>2</td>\n",
       "      <td>Maruti</td>\n",
       "    </tr>\n",
       "    <tr>\n",
       "      <th>321</th>\n",
       "      <td>Toyota Innova Crysta 2.4 VX MT</td>\n",
       "      <td>2016</td>\n",
       "      <td>141440</td>\n",
       "      <td>1</td>\n",
       "      <td>0</td>\n",
       "      <td>1</td>\n",
       "      <td>0</td>\n",
       "      <td>Toyota</td>\n",
       "    </tr>\n",
       "    <tr>\n",
       "      <th>4168</th>\n",
       "      <td>Chevrolet Tavera Neo 3 9 Str BSIII</td>\n",
       "      <td>2016</td>\n",
       "      <td>120000</td>\n",
       "      <td>1</td>\n",
       "      <td>1</td>\n",
       "      <td>1</td>\n",
       "      <td>0</td>\n",
       "      <td>Chevrolet</td>\n",
       "    </tr>\n",
       "  </tbody>\n",
       "</table>\n",
       "</div>"
      ],
      "text/plain": [
       "                                           name  year  km_driven  fuel  \\\n",
       "3996                  Hyundai i20 Asta 1.4 CRDi  2015      87000     1   \n",
       "3138                        Honda City 1.5 S MT  2009     120000     4   \n",
       "1810               Maruti Wagon R LXI DUO BSIII  2009      60000     3   \n",
       "379            Hyundai Grand i10 1.2 Kappa Asta  2019      10000     4   \n",
       "504           Ford Ecosport 1.5 DV5 MT Titanium  2014     101504     1   \n",
       "1805                       Ford Figo Diesel EXI  2012      28000     1   \n",
       "3804                            Maruti Alto LXi  2007      70000     4   \n",
       "146                        Hyundai i20 1.2 Asta  2018      10000     4   \n",
       "437                      Honda Brio S Option AT  2012      75000     4   \n",
       "2053               Ford Fiesta 1.4 ZXi TDCi ABS  2009     110000     1   \n",
       "1963                Hyundai Venue SX Opt Diesel  2020       5000     1   \n",
       "2796  Toyota Innova 2.5 Z Diesel 7 Seater BS IV  2014     173000     1   \n",
       "1399           Hyundai Grand i10 1.2 CRDi Magna  2015      61658     1   \n",
       "2918            Ford Figo Aspire 1.5 TDCi Trend  2015     148620     1   \n",
       "2434                        Honda City 1.5 S MT  2011     110000     4   \n",
       "3134                        Chevrolet Cruze LTZ  2011      65500     1   \n",
       "1356             Nissan Micra Diesel XV Premium  2011      90000     1   \n",
       "477                       Maruti Swift Ldi BSIV  2009     100000     1   \n",
       "321              Toyota Innova Crysta 2.4 VX MT  2016     141440     1   \n",
       "4168         Chevrolet Tavera Neo 3 9 Str BSIII  2016     120000     1   \n",
       "\n",
       "      seller_type  transmission  owner      brand  \n",
       "3996            1             1      0    Hyundai  \n",
       "3138            1             1      2      Honda  \n",
       "1810            1             1      2     Maruti  \n",
       "379             1             1      0    Hyundai  \n",
       "504             0             1      0       Ford  \n",
       "1805            1             1      0       Ford  \n",
       "3804            1             1      0     Maruti  \n",
       "146             1             1      0    Hyundai  \n",
       "437             1             0      2      Honda  \n",
       "2053            1             1      2       Ford  \n",
       "1963            1             1      0    Hyundai  \n",
       "2796            1             1      4     Toyota  \n",
       "1399            0             1      0    Hyundai  \n",
       "2918            0             1      0       Ford  \n",
       "2434            1             1      0      Honda  \n",
       "3134            1             1      0  Chevrolet  \n",
       "1356            1             1      2     Nissan  \n",
       "477             1             1      2     Maruti  \n",
       "321             0             1      0     Toyota  \n",
       "4168            1             1      0  Chevrolet  "
      ]
     },
     "execution_count": 68,
     "metadata": {},
     "output_type": "execute_result"
    }
   ],
   "source": [
    "random_car= random.drop('selling_price',axis=1)\n",
    "random_car"
   ]
  },
  {
   "cell_type": "code",
   "execution_count": 69,
   "id": "336e46a7",
   "metadata": {},
   "outputs": [],
   "source": [
    "# Converting  random_car to csv file.\n",
    "random_car.to_csv('sample_car')"
   ]
  },
  {
   "cell_type": "code",
   "execution_count": 70,
   "id": "b01a6a18",
   "metadata": {},
   "outputs": [
    {
     "data": {
      "text/html": [
       "<div>\n",
       "<style scoped>\n",
       "    .dataframe tbody tr th:only-of-type {\n",
       "        vertical-align: middle;\n",
       "    }\n",
       "\n",
       "    .dataframe tbody tr th {\n",
       "        vertical-align: top;\n",
       "    }\n",
       "\n",
       "    .dataframe thead th {\n",
       "        text-align: right;\n",
       "    }\n",
       "</style>\n",
       "<table border=\"1\" class=\"dataframe\">\n",
       "  <thead>\n",
       "    <tr style=\"text-align: right;\">\n",
       "      <th></th>\n",
       "      <th>Unnamed: 0</th>\n",
       "      <th>name</th>\n",
       "      <th>year</th>\n",
       "      <th>km_driven</th>\n",
       "      <th>fuel</th>\n",
       "      <th>seller_type</th>\n",
       "      <th>transmission</th>\n",
       "      <th>owner</th>\n",
       "      <th>brand</th>\n",
       "    </tr>\n",
       "  </thead>\n",
       "  <tbody>\n",
       "    <tr>\n",
       "      <th>0</th>\n",
       "      <td>3996</td>\n",
       "      <td>Hyundai i20 Asta 1.4 CRDi</td>\n",
       "      <td>2015</td>\n",
       "      <td>87000</td>\n",
       "      <td>1</td>\n",
       "      <td>1</td>\n",
       "      <td>1</td>\n",
       "      <td>0</td>\n",
       "      <td>Hyundai</td>\n",
       "    </tr>\n",
       "    <tr>\n",
       "      <th>1</th>\n",
       "      <td>3138</td>\n",
       "      <td>Honda City 1.5 S MT</td>\n",
       "      <td>2009</td>\n",
       "      <td>120000</td>\n",
       "      <td>4</td>\n",
       "      <td>1</td>\n",
       "      <td>1</td>\n",
       "      <td>2</td>\n",
       "      <td>Honda</td>\n",
       "    </tr>\n",
       "    <tr>\n",
       "      <th>2</th>\n",
       "      <td>1810</td>\n",
       "      <td>Maruti Wagon R LXI DUO BSIII</td>\n",
       "      <td>2009</td>\n",
       "      <td>60000</td>\n",
       "      <td>3</td>\n",
       "      <td>1</td>\n",
       "      <td>1</td>\n",
       "      <td>2</td>\n",
       "      <td>Maruti</td>\n",
       "    </tr>\n",
       "    <tr>\n",
       "      <th>3</th>\n",
       "      <td>379</td>\n",
       "      <td>Hyundai Grand i10 1.2 Kappa Asta</td>\n",
       "      <td>2019</td>\n",
       "      <td>10000</td>\n",
       "      <td>4</td>\n",
       "      <td>1</td>\n",
       "      <td>1</td>\n",
       "      <td>0</td>\n",
       "      <td>Hyundai</td>\n",
       "    </tr>\n",
       "    <tr>\n",
       "      <th>4</th>\n",
       "      <td>504</td>\n",
       "      <td>Ford Ecosport 1.5 DV5 MT Titanium</td>\n",
       "      <td>2014</td>\n",
       "      <td>101504</td>\n",
       "      <td>1</td>\n",
       "      <td>0</td>\n",
       "      <td>1</td>\n",
       "      <td>0</td>\n",
       "      <td>Ford</td>\n",
       "    </tr>\n",
       "    <tr>\n",
       "      <th>5</th>\n",
       "      <td>1805</td>\n",
       "      <td>Ford Figo Diesel EXI</td>\n",
       "      <td>2012</td>\n",
       "      <td>28000</td>\n",
       "      <td>1</td>\n",
       "      <td>1</td>\n",
       "      <td>1</td>\n",
       "      <td>0</td>\n",
       "      <td>Ford</td>\n",
       "    </tr>\n",
       "    <tr>\n",
       "      <th>6</th>\n",
       "      <td>3804</td>\n",
       "      <td>Maruti Alto LXi</td>\n",
       "      <td>2007</td>\n",
       "      <td>70000</td>\n",
       "      <td>4</td>\n",
       "      <td>1</td>\n",
       "      <td>1</td>\n",
       "      <td>0</td>\n",
       "      <td>Maruti</td>\n",
       "    </tr>\n",
       "    <tr>\n",
       "      <th>7</th>\n",
       "      <td>146</td>\n",
       "      <td>Hyundai i20 1.2 Asta</td>\n",
       "      <td>2018</td>\n",
       "      <td>10000</td>\n",
       "      <td>4</td>\n",
       "      <td>1</td>\n",
       "      <td>1</td>\n",
       "      <td>0</td>\n",
       "      <td>Hyundai</td>\n",
       "    </tr>\n",
       "    <tr>\n",
       "      <th>8</th>\n",
       "      <td>437</td>\n",
       "      <td>Honda Brio S Option AT</td>\n",
       "      <td>2012</td>\n",
       "      <td>75000</td>\n",
       "      <td>4</td>\n",
       "      <td>1</td>\n",
       "      <td>0</td>\n",
       "      <td>2</td>\n",
       "      <td>Honda</td>\n",
       "    </tr>\n",
       "    <tr>\n",
       "      <th>9</th>\n",
       "      <td>2053</td>\n",
       "      <td>Ford Fiesta 1.4 ZXi TDCi ABS</td>\n",
       "      <td>2009</td>\n",
       "      <td>110000</td>\n",
       "      <td>1</td>\n",
       "      <td>1</td>\n",
       "      <td>1</td>\n",
       "      <td>2</td>\n",
       "      <td>Ford</td>\n",
       "    </tr>\n",
       "    <tr>\n",
       "      <th>10</th>\n",
       "      <td>1963</td>\n",
       "      <td>Hyundai Venue SX Opt Diesel</td>\n",
       "      <td>2020</td>\n",
       "      <td>5000</td>\n",
       "      <td>1</td>\n",
       "      <td>1</td>\n",
       "      <td>1</td>\n",
       "      <td>0</td>\n",
       "      <td>Hyundai</td>\n",
       "    </tr>\n",
       "    <tr>\n",
       "      <th>11</th>\n",
       "      <td>2796</td>\n",
       "      <td>Toyota Innova 2.5 Z Diesel 7 Seater BS IV</td>\n",
       "      <td>2014</td>\n",
       "      <td>173000</td>\n",
       "      <td>1</td>\n",
       "      <td>1</td>\n",
       "      <td>1</td>\n",
       "      <td>4</td>\n",
       "      <td>Toyota</td>\n",
       "    </tr>\n",
       "    <tr>\n",
       "      <th>12</th>\n",
       "      <td>1399</td>\n",
       "      <td>Hyundai Grand i10 1.2 CRDi Magna</td>\n",
       "      <td>2015</td>\n",
       "      <td>61658</td>\n",
       "      <td>1</td>\n",
       "      <td>0</td>\n",
       "      <td>1</td>\n",
       "      <td>0</td>\n",
       "      <td>Hyundai</td>\n",
       "    </tr>\n",
       "    <tr>\n",
       "      <th>13</th>\n",
       "      <td>2918</td>\n",
       "      <td>Ford Figo Aspire 1.5 TDCi Trend</td>\n",
       "      <td>2015</td>\n",
       "      <td>148620</td>\n",
       "      <td>1</td>\n",
       "      <td>0</td>\n",
       "      <td>1</td>\n",
       "      <td>0</td>\n",
       "      <td>Ford</td>\n",
       "    </tr>\n",
       "    <tr>\n",
       "      <th>14</th>\n",
       "      <td>2434</td>\n",
       "      <td>Honda City 1.5 S MT</td>\n",
       "      <td>2011</td>\n",
       "      <td>110000</td>\n",
       "      <td>4</td>\n",
       "      <td>1</td>\n",
       "      <td>1</td>\n",
       "      <td>0</td>\n",
       "      <td>Honda</td>\n",
       "    </tr>\n",
       "    <tr>\n",
       "      <th>15</th>\n",
       "      <td>3134</td>\n",
       "      <td>Chevrolet Cruze LTZ</td>\n",
       "      <td>2011</td>\n",
       "      <td>65500</td>\n",
       "      <td>1</td>\n",
       "      <td>1</td>\n",
       "      <td>1</td>\n",
       "      <td>0</td>\n",
       "      <td>Chevrolet</td>\n",
       "    </tr>\n",
       "    <tr>\n",
       "      <th>16</th>\n",
       "      <td>1356</td>\n",
       "      <td>Nissan Micra Diesel XV Premium</td>\n",
       "      <td>2011</td>\n",
       "      <td>90000</td>\n",
       "      <td>1</td>\n",
       "      <td>1</td>\n",
       "      <td>1</td>\n",
       "      <td>2</td>\n",
       "      <td>Nissan</td>\n",
       "    </tr>\n",
       "    <tr>\n",
       "      <th>17</th>\n",
       "      <td>477</td>\n",
       "      <td>Maruti Swift Ldi BSIV</td>\n",
       "      <td>2009</td>\n",
       "      <td>100000</td>\n",
       "      <td>1</td>\n",
       "      <td>1</td>\n",
       "      <td>1</td>\n",
       "      <td>2</td>\n",
       "      <td>Maruti</td>\n",
       "    </tr>\n",
       "    <tr>\n",
       "      <th>18</th>\n",
       "      <td>321</td>\n",
       "      <td>Toyota Innova Crysta 2.4 VX MT</td>\n",
       "      <td>2016</td>\n",
       "      <td>141440</td>\n",
       "      <td>1</td>\n",
       "      <td>0</td>\n",
       "      <td>1</td>\n",
       "      <td>0</td>\n",
       "      <td>Toyota</td>\n",
       "    </tr>\n",
       "    <tr>\n",
       "      <th>19</th>\n",
       "      <td>4168</td>\n",
       "      <td>Chevrolet Tavera Neo 3 9 Str BSIII</td>\n",
       "      <td>2016</td>\n",
       "      <td>120000</td>\n",
       "      <td>1</td>\n",
       "      <td>1</td>\n",
       "      <td>1</td>\n",
       "      <td>0</td>\n",
       "      <td>Chevrolet</td>\n",
       "    </tr>\n",
       "  </tbody>\n",
       "</table>\n",
       "</div>"
      ],
      "text/plain": [
       "    Unnamed: 0                                       name  year  km_driven  \\\n",
       "0         3996                  Hyundai i20 Asta 1.4 CRDi  2015      87000   \n",
       "1         3138                        Honda City 1.5 S MT  2009     120000   \n",
       "2         1810               Maruti Wagon R LXI DUO BSIII  2009      60000   \n",
       "3          379           Hyundai Grand i10 1.2 Kappa Asta  2019      10000   \n",
       "4          504          Ford Ecosport 1.5 DV5 MT Titanium  2014     101504   \n",
       "5         1805                       Ford Figo Diesel EXI  2012      28000   \n",
       "6         3804                            Maruti Alto LXi  2007      70000   \n",
       "7          146                       Hyundai i20 1.2 Asta  2018      10000   \n",
       "8          437                     Honda Brio S Option AT  2012      75000   \n",
       "9         2053               Ford Fiesta 1.4 ZXi TDCi ABS  2009     110000   \n",
       "10        1963                Hyundai Venue SX Opt Diesel  2020       5000   \n",
       "11        2796  Toyota Innova 2.5 Z Diesel 7 Seater BS IV  2014     173000   \n",
       "12        1399           Hyundai Grand i10 1.2 CRDi Magna  2015      61658   \n",
       "13        2918            Ford Figo Aspire 1.5 TDCi Trend  2015     148620   \n",
       "14        2434                        Honda City 1.5 S MT  2011     110000   \n",
       "15        3134                        Chevrolet Cruze LTZ  2011      65500   \n",
       "16        1356             Nissan Micra Diesel XV Premium  2011      90000   \n",
       "17         477                      Maruti Swift Ldi BSIV  2009     100000   \n",
       "18         321             Toyota Innova Crysta 2.4 VX MT  2016     141440   \n",
       "19        4168         Chevrolet Tavera Neo 3 9 Str BSIII  2016     120000   \n",
       "\n",
       "    fuel  seller_type  transmission  owner      brand  \n",
       "0      1            1             1      0    Hyundai  \n",
       "1      4            1             1      2      Honda  \n",
       "2      3            1             1      2     Maruti  \n",
       "3      4            1             1      0    Hyundai  \n",
       "4      1            0             1      0       Ford  \n",
       "5      1            1             1      0       Ford  \n",
       "6      4            1             1      0     Maruti  \n",
       "7      4            1             1      0    Hyundai  \n",
       "8      4            1             0      2      Honda  \n",
       "9      1            1             1      2       Ford  \n",
       "10     1            1             1      0    Hyundai  \n",
       "11     1            1             1      4     Toyota  \n",
       "12     1            0             1      0    Hyundai  \n",
       "13     1            0             1      0       Ford  \n",
       "14     4            1             1      0      Honda  \n",
       "15     1            1             1      0  Chevrolet  \n",
       "16     1            1             1      2     Nissan  \n",
       "17     1            1             1      2     Maruti  \n",
       "18     1            0             1      0     Toyota  \n",
       "19     1            1             1      0  Chevrolet  "
      ]
     },
     "execution_count": 70,
     "metadata": {},
     "output_type": "execute_result"
    }
   ],
   "source": [
    "# Loading the sample_car data\n",
    "car = pd.read_csv('sample_car')\n",
    "car"
   ]
  },
  {
   "cell_type": "code",
   "execution_count": 71,
   "id": "aacefb76",
   "metadata": {},
   "outputs": [
    {
     "data": {
      "text/html": [
       "<div>\n",
       "<style scoped>\n",
       "    .dataframe tbody tr th:only-of-type {\n",
       "        vertical-align: middle;\n",
       "    }\n",
       "\n",
       "    .dataframe tbody tr th {\n",
       "        vertical-align: top;\n",
       "    }\n",
       "\n",
       "    .dataframe thead th {\n",
       "        text-align: right;\n",
       "    }\n",
       "</style>\n",
       "<table border=\"1\" class=\"dataframe\">\n",
       "  <thead>\n",
       "    <tr style=\"text-align: right;\">\n",
       "      <th></th>\n",
       "      <th>Unnamed: 0</th>\n",
       "      <th>name</th>\n",
       "      <th>year</th>\n",
       "      <th>km_driven</th>\n",
       "      <th>fuel</th>\n",
       "      <th>seller_type</th>\n",
       "      <th>transmission</th>\n",
       "      <th>owner</th>\n",
       "      <th>brand</th>\n",
       "    </tr>\n",
       "  </thead>\n",
       "  <tbody>\n",
       "    <tr>\n",
       "      <th>0</th>\n",
       "      <td>3996</td>\n",
       "      <td>Hyundai i20 Asta 1.4 CRDi</td>\n",
       "      <td>2015</td>\n",
       "      <td>87000</td>\n",
       "      <td>1</td>\n",
       "      <td>1</td>\n",
       "      <td>1</td>\n",
       "      <td>0</td>\n",
       "      <td>Hyundai</td>\n",
       "    </tr>\n",
       "    <tr>\n",
       "      <th>1</th>\n",
       "      <td>3138</td>\n",
       "      <td>Honda City 1.5 S MT</td>\n",
       "      <td>2009</td>\n",
       "      <td>120000</td>\n",
       "      <td>4</td>\n",
       "      <td>1</td>\n",
       "      <td>1</td>\n",
       "      <td>2</td>\n",
       "      <td>Honda</td>\n",
       "    </tr>\n",
       "    <tr>\n",
       "      <th>2</th>\n",
       "      <td>1810</td>\n",
       "      <td>Maruti Wagon R LXI DUO BSIII</td>\n",
       "      <td>2009</td>\n",
       "      <td>60000</td>\n",
       "      <td>3</td>\n",
       "      <td>1</td>\n",
       "      <td>1</td>\n",
       "      <td>2</td>\n",
       "      <td>Maruti</td>\n",
       "    </tr>\n",
       "    <tr>\n",
       "      <th>3</th>\n",
       "      <td>379</td>\n",
       "      <td>Hyundai Grand i10 1.2 Kappa Asta</td>\n",
       "      <td>2019</td>\n",
       "      <td>10000</td>\n",
       "      <td>4</td>\n",
       "      <td>1</td>\n",
       "      <td>1</td>\n",
       "      <td>0</td>\n",
       "      <td>Hyundai</td>\n",
       "    </tr>\n",
       "    <tr>\n",
       "      <th>4</th>\n",
       "      <td>504</td>\n",
       "      <td>Ford Ecosport 1.5 DV5 MT Titanium</td>\n",
       "      <td>2014</td>\n",
       "      <td>101504</td>\n",
       "      <td>1</td>\n",
       "      <td>0</td>\n",
       "      <td>1</td>\n",
       "      <td>0</td>\n",
       "      <td>Ford</td>\n",
       "    </tr>\n",
       "  </tbody>\n",
       "</table>\n",
       "</div>"
      ],
      "text/plain": [
       "   Unnamed: 0                               name  year  km_driven  fuel  \\\n",
       "0        3996          Hyundai i20 Asta 1.4 CRDi  2015      87000     1   \n",
       "1        3138                Honda City 1.5 S MT  2009     120000     4   \n",
       "2        1810       Maruti Wagon R LXI DUO BSIII  2009      60000     3   \n",
       "3         379   Hyundai Grand i10 1.2 Kappa Asta  2019      10000     4   \n",
       "4         504  Ford Ecosport 1.5 DV5 MT Titanium  2014     101504     1   \n",
       "\n",
       "   seller_type  transmission  owner    brand  \n",
       "0            1             1      0  Hyundai  \n",
       "1            1             1      2    Honda  \n",
       "2            1             1      2   Maruti  \n",
       "3            1             1      0  Hyundai  \n",
       "4            0             1      0     Ford  "
      ]
     },
     "execution_count": 71,
     "metadata": {},
     "output_type": "execute_result"
    }
   ],
   "source": [
    "car.head()"
   ]
  },
  {
   "cell_type": "code",
   "execution_count": 72,
   "id": "e32e6760",
   "metadata": {},
   "outputs": [
    {
     "data": {
      "text/html": [
       "<div>\n",
       "<style scoped>\n",
       "    .dataframe tbody tr th:only-of-type {\n",
       "        vertical-align: middle;\n",
       "    }\n",
       "\n",
       "    .dataframe tbody tr th {\n",
       "        vertical-align: top;\n",
       "    }\n",
       "\n",
       "    .dataframe thead th {\n",
       "        text-align: right;\n",
       "    }\n",
       "</style>\n",
       "<table border=\"1\" class=\"dataframe\">\n",
       "  <thead>\n",
       "    <tr style=\"text-align: right;\">\n",
       "      <th></th>\n",
       "      <th>Unnamed: 0</th>\n",
       "      <th>name</th>\n",
       "      <th>year</th>\n",
       "      <th>km_driven</th>\n",
       "      <th>fuel</th>\n",
       "      <th>seller_type</th>\n",
       "      <th>transmission</th>\n",
       "      <th>owner</th>\n",
       "      <th>brand</th>\n",
       "    </tr>\n",
       "  </thead>\n",
       "  <tbody>\n",
       "    <tr>\n",
       "      <th>15</th>\n",
       "      <td>3134</td>\n",
       "      <td>Chevrolet Cruze LTZ</td>\n",
       "      <td>2011</td>\n",
       "      <td>65500</td>\n",
       "      <td>1</td>\n",
       "      <td>1</td>\n",
       "      <td>1</td>\n",
       "      <td>0</td>\n",
       "      <td>Chevrolet</td>\n",
       "    </tr>\n",
       "    <tr>\n",
       "      <th>16</th>\n",
       "      <td>1356</td>\n",
       "      <td>Nissan Micra Diesel XV Premium</td>\n",
       "      <td>2011</td>\n",
       "      <td>90000</td>\n",
       "      <td>1</td>\n",
       "      <td>1</td>\n",
       "      <td>1</td>\n",
       "      <td>2</td>\n",
       "      <td>Nissan</td>\n",
       "    </tr>\n",
       "    <tr>\n",
       "      <th>17</th>\n",
       "      <td>477</td>\n",
       "      <td>Maruti Swift Ldi BSIV</td>\n",
       "      <td>2009</td>\n",
       "      <td>100000</td>\n",
       "      <td>1</td>\n",
       "      <td>1</td>\n",
       "      <td>1</td>\n",
       "      <td>2</td>\n",
       "      <td>Maruti</td>\n",
       "    </tr>\n",
       "    <tr>\n",
       "      <th>18</th>\n",
       "      <td>321</td>\n",
       "      <td>Toyota Innova Crysta 2.4 VX MT</td>\n",
       "      <td>2016</td>\n",
       "      <td>141440</td>\n",
       "      <td>1</td>\n",
       "      <td>0</td>\n",
       "      <td>1</td>\n",
       "      <td>0</td>\n",
       "      <td>Toyota</td>\n",
       "    </tr>\n",
       "    <tr>\n",
       "      <th>19</th>\n",
       "      <td>4168</td>\n",
       "      <td>Chevrolet Tavera Neo 3 9 Str BSIII</td>\n",
       "      <td>2016</td>\n",
       "      <td>120000</td>\n",
       "      <td>1</td>\n",
       "      <td>1</td>\n",
       "      <td>1</td>\n",
       "      <td>0</td>\n",
       "      <td>Chevrolet</td>\n",
       "    </tr>\n",
       "  </tbody>\n",
       "</table>\n",
       "</div>"
      ],
      "text/plain": [
       "    Unnamed: 0                                name  year  km_driven  fuel  \\\n",
       "15        3134                 Chevrolet Cruze LTZ  2011      65500     1   \n",
       "16        1356      Nissan Micra Diesel XV Premium  2011      90000     1   \n",
       "17         477               Maruti Swift Ldi BSIV  2009     100000     1   \n",
       "18         321      Toyota Innova Crysta 2.4 VX MT  2016     141440     1   \n",
       "19        4168  Chevrolet Tavera Neo 3 9 Str BSIII  2016     120000     1   \n",
       "\n",
       "    seller_type  transmission  owner      brand  \n",
       "15            1             1      0  Chevrolet  \n",
       "16            1             1      2     Nissan  \n",
       "17            1             1      2     Maruti  \n",
       "18            0             1      0     Toyota  \n",
       "19            1             1      0  Chevrolet  "
      ]
     },
     "execution_count": 72,
     "metadata": {},
     "output_type": "execute_result"
    }
   ],
   "source": [
    "car.tail()"
   ]
  },
  {
   "cell_type": "code",
   "execution_count": 73,
   "id": "229a24df",
   "metadata": {},
   "outputs": [
    {
     "data": {
      "text/plain": [
       "(20, 9)"
      ]
     },
     "execution_count": 73,
     "metadata": {},
     "output_type": "execute_result"
    }
   ],
   "source": [
    "car.shape"
   ]
  },
  {
   "cell_type": "code",
   "execution_count": 74,
   "id": "c6e88034",
   "metadata": {},
   "outputs": [
    {
     "data": {
      "text/plain": [
       "Index(['Unnamed: 0', 'name', 'year', 'km_driven', 'fuel', 'seller_type',\n",
       "       'transmission', 'owner', 'brand'],\n",
       "      dtype='object')"
      ]
     },
     "execution_count": 74,
     "metadata": {},
     "output_type": "execute_result"
    }
   ],
   "source": [
    "car.columns"
   ]
  },
  {
   "cell_type": "code",
   "execution_count": 75,
   "id": "0aec8533",
   "metadata": {},
   "outputs": [
    {
     "data": {
      "text/plain": [
       "Index(['year', 'km_driven', 'fuel', 'seller_type', 'transmission', 'owner'], dtype='object')"
      ]
     },
     "execution_count": 75,
     "metadata": {},
     "output_type": "execute_result"
    }
   ],
   "source": [
    "# Dropping unnecessary columns\n",
    "car = car.drop(['Unnamed: 0','name','brand'],axis=1)\n",
    "car.columns"
   ]
  },
  {
   "cell_type": "code",
   "execution_count": 76,
   "id": "a2d33236",
   "metadata": {},
   "outputs": [
    {
     "name": "stdout",
     "output_type": "stream",
     "text": [
      "[527391.22202533 158046.22251291 158501.29483772 536421.71346634\n",
      " 544665.12734863 425724.15389983 126355.53903552 536421.71346634\n",
      " 541940.70199779 260226.1977947  973738.64448282 484506.12114841\n",
      " 554411.13346798 586337.58615239 200039.13551296 305215.53052927\n",
      " 286753.65783025 260226.1977947  819317.3762385  648859.15301608]\n"
     ]
    }
   ],
   "source": [
    "# Make predictions using the loaded model\n",
    "predictions = loaded_model.predict(car)\n",
    "print(predictions)"
   ]
  }
 ],
 "metadata": {
  "kernelspec": {
   "display_name": "Python 3 (ipykernel)",
   "language": "python",
   "name": "python3"
  },
  "language_info": {
   "codemirror_mode": {
    "name": "ipython",
    "version": 3
   },
   "file_extension": ".py",
   "mimetype": "text/x-python",
   "name": "python",
   "nbconvert_exporter": "python",
   "pygments_lexer": "ipython3",
   "version": "3.9.12"
  }
 },
 "nbformat": 4,
 "nbformat_minor": 5
}
